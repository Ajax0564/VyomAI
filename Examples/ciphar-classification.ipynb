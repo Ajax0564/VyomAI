{
 "cells": [
  {
   "cell_type": "code",
   "execution_count": 1,
   "id": "244f7fb7",
   "metadata": {
    "_cell_guid": "b1076dfc-b9ad-4769-8c92-a6c4dae69d19",
    "_uuid": "8f2839f25d086af736a60e9eeb907d3b93b6e0e5",
    "execution": {
     "iopub.execute_input": "2025-06-10T19:03:52.451515Z",
     "iopub.status.busy": "2025-06-10T19:03:52.450811Z",
     "iopub.status.idle": "2025-06-10T19:04:09.451546Z",
     "shell.execute_reply": "2025-06-10T19:04:09.450715Z"
    },
    "papermill": {
     "duration": 17.01211,
     "end_time": "2025-06-10T19:04:09.453190",
     "exception": false,
     "start_time": "2025-06-10T19:03:52.441080",
     "status": "completed"
    },
    "tags": []
   },
   "outputs": [],
   "source": [
    "import gc\n",
    "import os\n",
    "import sys\n",
    "import numpy as np\n",
    "import random\n",
    "import pandas as pd\n",
    "from tqdm.notebook import tqdm\n",
    "import math\n",
    "import torch\n",
    "import transformers\n",
    "import torch.nn as nn\n",
    "import torch.nn.functional as F\n",
    "from torch.cuda.amp import GradScaler, autocast\n",
    "from accelerate import Accelerator\n",
    "from torch.utils.data import Dataset, DataLoader\n",
    "from transformers import (\n",
    "    AutoModel,\n",
    "    AutoTokenizer\n",
    ")\n",
    "from transformers import AutoConfig\n",
    "\n",
    "os.environ[\"TOKENIZERS_PARALLELISM\"] = \"false\"\n",
    "import warnings\n",
    "from safetensors.torch import save_file, safe_open\n",
    "warnings.simplefilter(\"ignore\")"
   ]
  },
  {
   "cell_type": "code",
   "execution_count": 2,
   "id": "141c6033",
   "metadata": {
    "execution": {
     "iopub.execute_input": "2025-06-10T19:04:09.468080Z",
     "iopub.status.busy": "2025-06-10T19:04:09.467615Z",
     "iopub.status.idle": "2025-06-10T19:04:09.473359Z",
     "shell.execute_reply": "2025-06-10T19:04:09.472692Z"
    },
    "papermill": {
     "duration": 0.014223,
     "end_time": "2025-06-10T19:04:09.474565",
     "exception": false,
     "start_time": "2025-06-10T19:04:09.460342",
     "status": "completed"
    },
    "tags": []
   },
   "outputs": [
    {
     "data": {
      "text/plain": [
       "'2.6.0+cu124'"
      ]
     },
     "execution_count": 2,
     "metadata": {},
     "output_type": "execute_result"
    }
   ],
   "source": [
    "torch.__version__"
   ]
  },
  {
   "cell_type": "code",
   "execution_count": 3,
   "id": "267b71c4",
   "metadata": {
    "execution": {
     "iopub.execute_input": "2025-06-10T19:04:09.489718Z",
     "iopub.status.busy": "2025-06-10T19:04:09.488930Z",
     "iopub.status.idle": "2025-06-10T19:04:09.681571Z",
     "shell.execute_reply": "2025-06-10T19:04:09.680561Z"
    },
    "papermill": {
     "duration": 0.201985,
     "end_time": "2025-06-10T19:04:09.683340",
     "exception": false,
     "start_time": "2025-06-10T19:04:09.481355",
     "status": "completed"
    },
    "tags": []
   },
   "outputs": [
    {
     "name": "stdout",
     "output_type": "stream",
     "text": [
      "Tue Jun 10 19:04:09 2025       \r\n",
      "+-----------------------------------------------------------------------------------------+\r\n",
      "| NVIDIA-SMI 560.35.03              Driver Version: 560.35.03      CUDA Version: 12.6     |\r\n",
      "|-----------------------------------------+------------------------+----------------------+\r\n",
      "| GPU  Name                 Persistence-M | Bus-Id          Disp.A | Volatile Uncorr. ECC |\r\n",
      "| Fan  Temp   Perf          Pwr:Usage/Cap |           Memory-Usage | GPU-Util  Compute M. |\r\n",
      "|                                         |                        |               MIG M. |\r\n",
      "|=========================================+========================+======================|\r\n",
      "|   0  Tesla P100-PCIE-16GB           Off |   00000000:00:04.0 Off |                    0 |\r\n",
      "| N/A   35C    P0             26W /  250W |       3MiB /  16384MiB |      0%      Default |\r\n",
      "|                                         |                        |                  N/A |\r\n",
      "+-----------------------------------------+------------------------+----------------------+\r\n",
      "                                                                                         \r\n",
      "+-----------------------------------------------------------------------------------------+\r\n",
      "| Processes:                                                                              |\r\n",
      "|  GPU   GI   CI        PID   Type   Process name                              GPU Memory |\r\n",
      "|        ID   ID                                                               Usage      |\r\n",
      "|=========================================================================================|\r\n",
      "|  No running processes found                                                             |\r\n",
      "+-----------------------------------------------------------------------------------------+\r\n"
     ]
    }
   ],
   "source": [
    "! nvidia-smi"
   ]
  },
  {
   "cell_type": "code",
   "execution_count": 4,
   "id": "f82a1004",
   "metadata": {
    "execution": {
     "iopub.execute_input": "2025-06-10T19:04:09.698492Z",
     "iopub.status.busy": "2025-06-10T19:04:09.698144Z",
     "iopub.status.idle": "2025-06-10T19:04:09.703546Z",
     "shell.execute_reply": "2025-06-10T19:04:09.702831Z"
    },
    "papermill": {
     "duration": 0.014501,
     "end_time": "2025-06-10T19:04:09.704898",
     "exception": false,
     "start_time": "2025-06-10T19:04:09.690397",
     "status": "completed"
    },
    "tags": []
   },
   "outputs": [],
   "source": [
    "def seed_everything(seed):\n",
    "    random.seed(seed)\n",
    "    os.environ[\"PYTHONHASHSEED\"] = str(seed)\n",
    "    np.random.seed(seed)\n",
    "    torch.manual_seed(seed)\n",
    "    torch.cuda.manual_seed(seed)\n",
    "    torch.backends.cudnn.deterministic = True"
   ]
  },
  {
   "cell_type": "code",
   "execution_count": 5,
   "id": "008cac9b",
   "metadata": {
    "execution": {
     "iopub.execute_input": "2025-06-10T19:04:09.720217Z",
     "iopub.status.busy": "2025-06-10T19:04:09.719892Z",
     "iopub.status.idle": "2025-06-10T19:04:32.433384Z",
     "shell.execute_reply": "2025-06-10T19:04:32.432684Z"
    },
    "papermill": {
     "duration": 22.723295,
     "end_time": "2025-06-10T19:04:32.434958",
     "exception": false,
     "start_time": "2025-06-10T19:04:09.711663",
     "status": "completed"
    },
    "tags": []
   },
   "outputs": [
    {
     "data": {
      "application/vnd.jupyter.widget-view+json": {
       "model_id": "6a7368b5a6774357a67e0347e644828d",
       "version_major": 2,
       "version_minor": 0
      },
      "text/plain": [
       "tokenizer_config.json:   0%|          | 0.00/25.0 [00:00<?, ?B/s]"
      ]
     },
     "metadata": {},
     "output_type": "display_data"
    },
    {
     "data": {
      "application/vnd.jupyter.widget-view+json": {
       "model_id": "ce4129031f81446dba02b3b804a040e8",
       "version_major": 2,
       "version_minor": 0
      },
      "text/plain": [
       "config.json:   0%|          | 0.00/481 [00:00<?, ?B/s]"
      ]
     },
     "metadata": {},
     "output_type": "display_data"
    },
    {
     "data": {
      "application/vnd.jupyter.widget-view+json": {
       "model_id": "efa4b312786e4321a3ba1faf372ff445",
       "version_major": 2,
       "version_minor": 0
      },
      "text/plain": [
       "vocab.json:   0%|          | 0.00/899k [00:00<?, ?B/s]"
      ]
     },
     "metadata": {},
     "output_type": "display_data"
    },
    {
     "data": {
      "application/vnd.jupyter.widget-view+json": {
       "model_id": "50f07ea5e0a64f85b38542dce7c483c8",
       "version_major": 2,
       "version_minor": 0
      },
      "text/plain": [
       "merges.txt:   0%|          | 0.00/456k [00:00<?, ?B/s]"
      ]
     },
     "metadata": {},
     "output_type": "display_data"
    },
    {
     "data": {
      "application/vnd.jupyter.widget-view+json": {
       "model_id": "91d10fce1ea54567b887535eecbf7548",
       "version_major": 2,
       "version_minor": 0
      },
      "text/plain": [
       "tokenizer.json:   0%|          | 0.00/1.36M [00:00<?, ?B/s]"
      ]
     },
     "metadata": {},
     "output_type": "display_data"
    },
    {
     "name": "stderr",
     "output_type": "stream",
     "text": [
      "2025-06-10 19:04:17.803517: E external/local_xla/xla/stream_executor/cuda/cuda_fft.cc:477] Unable to register cuFFT factory: Attempting to register factory for plugin cuFFT when one has already been registered\n",
      "WARNING: All log messages before absl::InitializeLog() is called are written to STDERR\n",
      "E0000 00:00:1749582258.012425      19 cuda_dnn.cc:8310] Unable to register cuDNN factory: Attempting to register factory for plugin cuDNN when one has already been registered\n",
      "E0000 00:00:1749582258.069265      19 cuda_blas.cc:1418] Unable to register cuBLAS factory: Attempting to register factory for plugin cuBLAS when one has already been registered\n"
     ]
    },
    {
     "data": {
      "application/vnd.jupyter.widget-view+json": {
       "model_id": "b5bf10dfd46444e696fad23352f52a7a",
       "version_major": 2,
       "version_minor": 0
      },
      "text/plain": [
       "model.safetensors:   0%|          | 0.00/499M [00:00<?, ?B/s]"
      ]
     },
     "metadata": {},
     "output_type": "display_data"
    },
    {
     "name": "stderr",
     "output_type": "stream",
     "text": [
      "Some weights of RobertaModel were not initialized from the model checkpoint at roberta-base and are newly initialized: ['pooler.dense.bias', 'pooler.dense.weight']\n",
      "You should probably TRAIN this model on a down-stream task to be able to use it for predictions and inference.\n"
     ]
    }
   ],
   "source": [
    "model_ckpt = \"roberta-base\"\n",
    "\n",
    "tokenizer = AutoTokenizer.from_pretrained(model_ckpt)\n",
    "config = AutoConfig.from_pretrained(model_ckpt)\n",
    "m = AutoModel.from_pretrained(model_ckpt)\n",
    "tokenizer.save_pretrained('roberta_base_tokenizer')\n",
    "word = m.embeddings.word_embeddings.weight\n"
   ]
  },
  {
   "cell_type": "code",
   "execution_count": 6,
   "id": "6492f112",
   "metadata": {
    "execution": {
     "iopub.execute_input": "2025-06-10T19:04:32.451608Z",
     "iopub.status.busy": "2025-06-10T19:04:32.450793Z",
     "iopub.status.idle": "2025-06-10T19:04:32.811141Z",
     "shell.execute_reply": "2025-06-10T19:04:32.810224Z"
    },
    "papermill": {
     "duration": 0.3701,
     "end_time": "2025-06-10T19:04:32.812939",
     "exception": false,
     "start_time": "2025-06-10T19:04:32.442839",
     "status": "completed"
    },
    "tags": []
   },
   "outputs": [],
   "source": [
    "out = torch.rand(50265,768).split(128,1)"
   ]
  },
  {
   "cell_type": "code",
   "execution_count": 7,
   "id": "9c8005f9",
   "metadata": {
    "execution": {
     "iopub.execute_input": "2025-06-10T19:04:32.828870Z",
     "iopub.status.busy": "2025-06-10T19:04:32.828599Z",
     "iopub.status.idle": "2025-06-10T19:04:32.833276Z",
     "shell.execute_reply": "2025-06-10T19:04:32.832255Z"
    },
    "papermill": {
     "duration": 0.013806,
     "end_time": "2025-06-10T19:04:32.834435",
     "exception": false,
     "start_time": "2025-06-10T19:04:32.820629",
     "status": "completed"
    },
    "tags": []
   },
   "outputs": [
    {
     "name": "stdout",
     "output_type": "stream",
     "text": [
      "torch.Size([50265, 128])\n",
      "torch.Size([50265, 128])\n",
      "torch.Size([50265, 128])\n",
      "torch.Size([50265, 128])\n",
      "torch.Size([50265, 128])\n",
      "torch.Size([50265, 128])\n"
     ]
    }
   ],
   "source": [
    "for i in range(len(out)):\n",
    "    print(out[i].size())"
   ]
  },
  {
   "cell_type": "code",
   "execution_count": 8,
   "id": "fe9913e4",
   "metadata": {
    "execution": {
     "iopub.execute_input": "2025-06-10T19:04:32.849999Z",
     "iopub.status.busy": "2025-06-10T19:04:32.849691Z",
     "iopub.status.idle": "2025-06-10T19:04:33.104369Z",
     "shell.execute_reply": "2025-06-10T19:04:33.103434Z"
    },
    "papermill": {
     "duration": 0.264433,
     "end_time": "2025-06-10T19:04:33.106340",
     "exception": false,
     "start_time": "2025-06-10T19:04:32.841907",
     "status": "completed"
    },
    "tags": []
   },
   "outputs": [],
   "source": [
    "word = m.embeddings.word_embeddings.weight\n",
    "out = word.split(128,1)\n",
    "for i in range(len(out)):\n",
    "    tensors = {\n",
    "        \"embedding\": out[i].contiguous()\n",
    "    }\n",
    "    save_file(tensors, f\"roberta_base_embedding_{i}.safetensors\")"
   ]
  },
  {
   "cell_type": "code",
   "execution_count": null,
   "id": "ea5dd962",
   "metadata": {
    "papermill": {
     "duration": 0.007308,
     "end_time": "2025-06-10T19:04:33.121742",
     "exception": false,
     "start_time": "2025-06-10T19:04:33.114434",
     "status": "completed"
    },
    "tags": []
   },
   "outputs": [],
   "source": []
  },
  {
   "cell_type": "code",
   "execution_count": 9,
   "id": "8a674cbf",
   "metadata": {
    "execution": {
     "iopub.execute_input": "2025-06-10T19:04:33.139240Z",
     "iopub.status.busy": "2025-06-10T19:04:33.138307Z",
     "iopub.status.idle": "2025-06-10T19:04:33.145042Z",
     "shell.execute_reply": "2025-06-10T19:04:33.144190Z"
    },
    "papermill": {
     "duration": 0.017084,
     "end_time": "2025-06-10T19:04:33.146479",
     "exception": false,
     "start_time": "2025-06-10T19:04:33.129395",
     "status": "completed"
    },
    "tags": []
   },
   "outputs": [],
   "source": [
    "out = []\n",
    "for i in range(6):\n",
    "    with safe_open(f\"roberta_base_embedding_{i}.safetensors\", framework=\"pt\") as f:\n",
    "        out.append(f.get_tensor('embedding'))\n",
    "    "
   ]
  },
  {
   "cell_type": "code",
   "execution_count": 10,
   "id": "f064a4f2",
   "metadata": {
    "execution": {
     "iopub.execute_input": "2025-06-10T19:04:33.162729Z",
     "iopub.status.busy": "2025-06-10T19:04:33.161861Z",
     "iopub.status.idle": "2025-06-10T19:04:33.254020Z",
     "shell.execute_reply": "2025-06-10T19:04:33.253084Z"
    },
    "papermill": {
     "duration": 0.101818,
     "end_time": "2025-06-10T19:04:33.255644",
     "exception": false,
     "start_time": "2025-06-10T19:04:33.153826",
     "status": "completed"
    },
    "tags": []
   },
   "outputs": [],
   "source": [
    "wb_new = torch.cat(out, dim=1)"
   ]
  },
  {
   "cell_type": "code",
   "execution_count": 11,
   "id": "55bff9d0",
   "metadata": {
    "execution": {
     "iopub.execute_input": "2025-06-10T19:04:33.272329Z",
     "iopub.status.busy": "2025-06-10T19:04:33.272039Z",
     "iopub.status.idle": "2025-06-10T19:04:33.277061Z",
     "shell.execute_reply": "2025-06-10T19:04:33.276340Z"
    },
    "papermill": {
     "duration": 0.014776,
     "end_time": "2025-06-10T19:04:33.278369",
     "exception": false,
     "start_time": "2025-06-10T19:04:33.263593",
     "status": "completed"
    },
    "tags": []
   },
   "outputs": [
    {
     "data": {
      "text/plain": [
       "torch.Size([50265, 768])"
      ]
     },
     "execution_count": 11,
     "metadata": {},
     "output_type": "execute_result"
    }
   ],
   "source": [
    "wb_new.size()"
   ]
  },
  {
   "cell_type": "code",
   "execution_count": 12,
   "id": "3d29dbfa",
   "metadata": {
    "execution": {
     "iopub.execute_input": "2025-06-10T19:04:33.295028Z",
     "iopub.status.busy": "2025-06-10T19:04:33.294708Z",
     "iopub.status.idle": "2025-06-10T19:04:33.303893Z",
     "shell.execute_reply": "2025-06-10T19:04:33.303205Z"
    },
    "papermill": {
     "duration": 0.01908,
     "end_time": "2025-06-10T19:04:33.305265",
     "exception": false,
     "start_time": "2025-06-10T19:04:33.286185",
     "status": "completed"
    },
    "tags": []
   },
   "outputs": [],
   "source": [
    "EPOCHS = 5\n",
    "lr = 1e-3\n",
    "SEED = 42\n",
    "MAX_LEN = 128\n",
    "BATCH_SIZE = 128\n",
    "accumulation_steps = 2\n",
    "seed_everything(SEED)"
   ]
  },
  {
   "cell_type": "markdown",
   "id": "f3404eb0",
   "metadata": {
    "papermill": {
     "duration": 0.007381,
     "end_time": "2025-06-10T19:04:33.320701",
     "exception": false,
     "start_time": "2025-06-10T19:04:33.313320",
     "status": "completed"
    },
    "tags": []
   },
   "source": [
    "**Data Source**\n",
    "\n",
    "from datasets import load_dataset\n",
    "\n",
    "\n",
    "clinc = load_dataset(\"clinc_oos\", \"plus\")"
   ]
  },
  {
   "cell_type": "code",
   "execution_count": 13,
   "id": "90aca563",
   "metadata": {
    "execution": {
     "iopub.execute_input": "2025-06-10T19:04:33.336445Z",
     "iopub.status.busy": "2025-06-10T19:04:33.336154Z",
     "iopub.status.idle": "2025-06-10T19:04:33.396791Z",
     "shell.execute_reply": "2025-06-10T19:04:33.396041Z"
    },
    "papermill": {
     "duration": 0.070051,
     "end_time": "2025-06-10T19:04:33.398072",
     "exception": false,
     "start_time": "2025-06-10T19:04:33.328021",
     "status": "completed"
    },
    "tags": []
   },
   "outputs": [
    {
     "data": {
      "text/html": [
       "<div>\n",
       "<style scoped>\n",
       "    .dataframe tbody tr th:only-of-type {\n",
       "        vertical-align: middle;\n",
       "    }\n",
       "\n",
       "    .dataframe tbody tr th {\n",
       "        vertical-align: top;\n",
       "    }\n",
       "\n",
       "    .dataframe thead th {\n",
       "        text-align: right;\n",
       "    }\n",
       "</style>\n",
       "<table border=\"1\" class=\"dataframe\">\n",
       "  <thead>\n",
       "    <tr style=\"text-align: right;\">\n",
       "      <th></th>\n",
       "      <th>Sentence</th>\n",
       "      <th>Sentiment</th>\n",
       "    </tr>\n",
       "  </thead>\n",
       "  <tbody>\n",
       "    <tr>\n",
       "      <th>0</th>\n",
       "      <td>The GeoSolutions technology will leverage Bene...</td>\n",
       "      <td>positive</td>\n",
       "    </tr>\n",
       "    <tr>\n",
       "      <th>1</th>\n",
       "      <td>$ESI on lows, down $1.50 to $2.50 BK a real po...</td>\n",
       "      <td>negative</td>\n",
       "    </tr>\n",
       "  </tbody>\n",
       "</table>\n",
       "</div>"
      ],
      "text/plain": [
       "                                            Sentence Sentiment\n",
       "0  The GeoSolutions technology will leverage Bene...  positive\n",
       "1  $ESI on lows, down $1.50 to $2.50 BK a real po...  negative"
      ]
     },
     "execution_count": 13,
     "metadata": {},
     "output_type": "execute_result"
    }
   ],
   "source": [
    "df = pd.read_csv('/kaggle/input/financial-sentiment-analysis/data.csv')\n",
    "df.head(2)"
   ]
  },
  {
   "cell_type": "code",
   "execution_count": 14,
   "id": "15efb39c",
   "metadata": {
    "execution": {
     "iopub.execute_input": "2025-06-10T19:04:33.414084Z",
     "iopub.status.busy": "2025-06-10T19:04:33.413776Z",
     "iopub.status.idle": "2025-06-10T19:04:33.421777Z",
     "shell.execute_reply": "2025-06-10T19:04:33.421221Z"
    },
    "papermill": {
     "duration": 0.017306,
     "end_time": "2025-06-10T19:04:33.422957",
     "exception": false,
     "start_time": "2025-06-10T19:04:33.405651",
     "status": "completed"
    },
    "tags": []
   },
   "outputs": [
    {
     "data": {
      "text/plain": [
       "(5842, 2)"
      ]
     },
     "execution_count": 14,
     "metadata": {},
     "output_type": "execute_result"
    }
   ],
   "source": [
    "df = df.rename(columns={'Sentence':'Text'})\n",
    "df.shape"
   ]
  },
  {
   "cell_type": "code",
   "execution_count": 15,
   "id": "4ec18ed5",
   "metadata": {
    "execution": {
     "iopub.execute_input": "2025-06-10T19:04:33.439233Z",
     "iopub.status.busy": "2025-06-10T19:04:33.438930Z",
     "iopub.status.idle": "2025-06-10T19:04:33.446953Z",
     "shell.execute_reply": "2025-06-10T19:04:33.446340Z"
    },
    "papermill": {
     "duration": 0.017533,
     "end_time": "2025-06-10T19:04:33.448212",
     "exception": false,
     "start_time": "2025-06-10T19:04:33.430679",
     "status": "completed"
    },
    "tags": []
   },
   "outputs": [],
   "source": [
    "mapping = {'positive':0,'negative':1,'neutral':2}\n",
    "df['Target'] = df['Sentiment'].map(mapping)"
   ]
  },
  {
   "cell_type": "code",
   "execution_count": 16,
   "id": "e9c51eed",
   "metadata": {
    "execution": {
     "iopub.execute_input": "2025-06-10T19:04:33.521815Z",
     "iopub.status.busy": "2025-06-10T19:04:33.521507Z",
     "iopub.status.idle": "2025-06-10T19:04:33.529766Z",
     "shell.execute_reply": "2025-06-10T19:04:33.528973Z"
    },
    "papermill": {
     "duration": 0.018169,
     "end_time": "2025-06-10T19:04:33.531154",
     "exception": false,
     "start_time": "2025-06-10T19:04:33.512985",
     "status": "completed"
    },
    "tags": []
   },
   "outputs": [
    {
     "data": {
      "text/html": [
       "<div>\n",
       "<style scoped>\n",
       "    .dataframe tbody tr th:only-of-type {\n",
       "        vertical-align: middle;\n",
       "    }\n",
       "\n",
       "    .dataframe tbody tr th {\n",
       "        vertical-align: top;\n",
       "    }\n",
       "\n",
       "    .dataframe thead th {\n",
       "        text-align: right;\n",
       "    }\n",
       "</style>\n",
       "<table border=\"1\" class=\"dataframe\">\n",
       "  <thead>\n",
       "    <tr style=\"text-align: right;\">\n",
       "      <th></th>\n",
       "      <th>Text</th>\n",
       "      <th>Sentiment</th>\n",
       "      <th>Target</th>\n",
       "    </tr>\n",
       "  </thead>\n",
       "  <tbody>\n",
       "    <tr>\n",
       "      <th>0</th>\n",
       "      <td>The GeoSolutions technology will leverage Bene...</td>\n",
       "      <td>positive</td>\n",
       "      <td>0</td>\n",
       "    </tr>\n",
       "    <tr>\n",
       "      <th>1</th>\n",
       "      <td>$ESI on lows, down $1.50 to $2.50 BK a real po...</td>\n",
       "      <td>negative</td>\n",
       "      <td>1</td>\n",
       "    </tr>\n",
       "    <tr>\n",
       "      <th>2</th>\n",
       "      <td>For the last quarter of 2010 , Componenta 's n...</td>\n",
       "      <td>positive</td>\n",
       "      <td>0</td>\n",
       "    </tr>\n",
       "    <tr>\n",
       "      <th>3</th>\n",
       "      <td>According to the Finnish-Russian Chamber of Co...</td>\n",
       "      <td>neutral</td>\n",
       "      <td>2</td>\n",
       "    </tr>\n",
       "    <tr>\n",
       "      <th>4</th>\n",
       "      <td>The Swedish buyout firm has sold its remaining...</td>\n",
       "      <td>neutral</td>\n",
       "      <td>2</td>\n",
       "    </tr>\n",
       "  </tbody>\n",
       "</table>\n",
       "</div>"
      ],
      "text/plain": [
       "                                                Text Sentiment  Target\n",
       "0  The GeoSolutions technology will leverage Bene...  positive       0\n",
       "1  $ESI on lows, down $1.50 to $2.50 BK a real po...  negative       1\n",
       "2  For the last quarter of 2010 , Componenta 's n...  positive       0\n",
       "3  According to the Finnish-Russian Chamber of Co...   neutral       2\n",
       "4  The Swedish buyout firm has sold its remaining...   neutral       2"
      ]
     },
     "execution_count": 16,
     "metadata": {},
     "output_type": "execute_result"
    }
   ],
   "source": [
    "df.head(5)"
   ]
  },
  {
   "cell_type": "code",
   "execution_count": 17,
   "id": "d95fae6c",
   "metadata": {
    "execution": {
     "iopub.execute_input": "2025-06-10T19:04:33.547968Z",
     "iopub.status.busy": "2025-06-10T19:04:33.547301Z",
     "iopub.status.idle": "2025-06-10T19:04:33.575444Z",
     "shell.execute_reply": "2025-06-10T19:04:33.574590Z"
    },
    "papermill": {
     "duration": 0.03787,
     "end_time": "2025-06-10T19:04:33.576863",
     "exception": false,
     "start_time": "2025-06-10T19:04:33.538993",
     "status": "completed"
    },
    "tags": []
   },
   "outputs": [],
   "source": [
    "from sklearn.model_selection import train_test_split\n",
    "n_classes = np.unique(df.Target).shape[0]\n",
    "train,valid = train_test_split(df,test_size=0.2, random_state=42, shuffle=True, stratify=df['Target'])"
   ]
  },
  {
   "cell_type": "code",
   "execution_count": null,
   "id": "b2062767",
   "metadata": {
    "papermill": {
     "duration": 0.007319,
     "end_time": "2025-06-10T19:04:33.591974",
     "exception": false,
     "start_time": "2025-06-10T19:04:33.584655",
     "status": "completed"
    },
    "tags": []
   },
   "outputs": [],
   "source": []
  },
  {
   "cell_type": "code",
   "execution_count": 18,
   "id": "c82de592",
   "metadata": {
    "execution": {
     "iopub.execute_input": "2025-06-10T19:04:33.608145Z",
     "iopub.status.busy": "2025-06-10T19:04:33.607317Z",
     "iopub.status.idle": "2025-06-10T19:04:33.611314Z",
     "shell.execute_reply": "2025-06-10T19:04:33.610473Z"
    },
    "papermill": {
     "duration": 0.013385,
     "end_time": "2025-06-10T19:04:33.612644",
     "exception": false,
     "start_time": "2025-06-10T19:04:33.599259",
     "status": "completed"
    },
    "tags": []
   },
   "outputs": [],
   "source": [
    "# data_path = \"../input/data-for-distilation\"\n",
    "# train = pd.read_csv(\"../input/data-for-distilation/Clinc_Train.csv\")\n",
    "# valid = pd.read_csv(\"../input/data-for-distilation/Clinc_valid.csv\")\n",
    "# n_classes = np.unique(train.Target).shape[0]\n",
    "# train.head(2)"
   ]
  },
  {
   "cell_type": "code",
   "execution_count": 19,
   "id": "058cf5f1",
   "metadata": {
    "execution": {
     "iopub.execute_input": "2025-06-10T19:04:33.629011Z",
     "iopub.status.busy": "2025-06-10T19:04:33.628415Z",
     "iopub.status.idle": "2025-06-10T19:04:33.631786Z",
     "shell.execute_reply": "2025-06-10T19:04:33.631202Z"
    },
    "papermill": {
     "duration": 0.012612,
     "end_time": "2025-06-10T19:04:33.632895",
     "exception": false,
     "start_time": "2025-06-10T19:04:33.620283",
     "status": "completed"
    },
    "tags": []
   },
   "outputs": [],
   "source": [
    "# train.Target.nunique()"
   ]
  },
  {
   "cell_type": "code",
   "execution_count": 20,
   "id": "3041ea64",
   "metadata": {
    "execution": {
     "iopub.execute_input": "2025-06-10T19:04:33.649049Z",
     "iopub.status.busy": "2025-06-10T19:04:33.648776Z",
     "iopub.status.idle": "2025-06-10T19:04:37.933777Z",
     "shell.execute_reply": "2025-06-10T19:04:37.932845Z"
    },
    "papermill": {
     "duration": 4.29467,
     "end_time": "2025-06-10T19:04:37.935277",
     "exception": false,
     "start_time": "2025-06-10T19:04:33.640607",
     "status": "completed"
    },
    "tags": []
   },
   "outputs": [
    {
     "name": "stdout",
     "output_type": "stream",
     "text": [
      "Requirement already satisfied: einops in /usr/local/lib/python3.11/dist-packages (0.8.1)\r\n"
     ]
    }
   ],
   "source": [
    "!pip install einops"
   ]
  },
  {
   "cell_type": "code",
   "execution_count": 21,
   "id": "6797daa3",
   "metadata": {
    "execution": {
     "iopub.execute_input": "2025-06-10T19:04:37.955133Z",
     "iopub.status.busy": "2025-06-10T19:04:37.954301Z",
     "iopub.status.idle": "2025-06-10T19:04:37.989862Z",
     "shell.execute_reply": "2025-06-10T19:04:37.989203Z"
    },
    "papermill": {
     "duration": 0.047639,
     "end_time": "2025-06-10T19:04:37.991324",
     "exception": false,
     "start_time": "2025-06-10T19:04:37.943685",
     "status": "completed"
    },
    "tags": []
   },
   "outputs": [],
   "source": [
    "import torch\n",
    "import torch.nn as nn\n",
    "from einops import rearrange, reduce, repeat\n",
    "from typing import Optional, Tuple\n",
    "\n",
    "\n",
    "class EncoderAttention(nn.Module):\n",
    "    def __init__(self, config, layer_idx: int) -> None:\n",
    "        super().__init__()\n",
    "        if config.hidden_size % config.num_attention_heads != 0:\n",
    "            raise ValueError(\n",
    "                f\"The hidden size ({config.hidden_size}) is not a multiple of the number of attention \"\n",
    "                f\"heads ({config.num_attention_heads})\"\n",
    "            )\n",
    "        self.head_size = int(config.hidden_size // config.num_attention_heads)\n",
    "        self.attention_bias = getattr(config, \"attention_bias\", True)\n",
    "        self.layer_idx = layer_idx\n",
    "        # self.qkv = nn.Linear(config.hidden_size,3*config.hidden_size)\n",
    "        self.q = nn.Linear(\n",
    "            config.hidden_size, config.hidden_size, bias=self.attention_bias\n",
    "        )\n",
    "        self.k = nn.Linear(\n",
    "            config.hidden_size, config.hidden_size, bias=self.attention_bias\n",
    "        )\n",
    "        self.v = nn.Linear(\n",
    "            config.hidden_size, config.hidden_size, bias=self.attention_bias\n",
    "        )\n",
    "        self.out = nn.Linear(\n",
    "            config.hidden_size, config.hidden_size, bias=self.attention_bias\n",
    "        )\n",
    "        self.num_attention_heads = config.num_attention_heads\n",
    "\n",
    "    def forward(\n",
    "        self,\n",
    "        hidden_state: torch.Tensor,\n",
    "        attention_mask: torch.Tensor,\n",
    "        freqs: Optional[torch.Tensor] = None,\n",
    "    ) -> torch.Tensor:\n",
    "        q = self.q(hidden_state)\n",
    "        k = self.k(hidden_state)\n",
    "        v = self.v(hidden_state)\n",
    "        # q,k,v = self.qkv(hidden_state).chunk(3, dim = -1) #b X l X d dim =-1 or 2\n",
    "        # place holder for RoPe operation\n",
    "        q = rearrange(q, \"b l (h d) -> b h l d\", h=self.num_attention_heads)\n",
    "        k = rearrange(k, \"b l (h d) -> b h l d\", h=self.num_attention_heads)\n",
    "        v = rearrange(v, \"b l (h d) -> b h l d\", h=self.num_attention_heads)\n",
    "        if freqs is not None:\n",
    "            q, k = apply_rotary_pos_emb(q, k, freqs)\n",
    "\n",
    "        out = torch.nn.functional.scaled_dot_product_attention(\n",
    "            query=q, key=k, value=v, attn_mask=attention_mask, is_causal=False\n",
    "        )\n",
    "        out = rearrange(out, \"b h l d -> b l (h d)\")\n",
    "        out = self.out(out)\n",
    "        return out\n",
    "\n"
   ]
  },
  {
   "cell_type": "code",
   "execution_count": 22,
   "id": "ffc9ee94",
   "metadata": {
    "execution": {
     "iopub.execute_input": "2025-06-10T19:04:38.009223Z",
     "iopub.status.busy": "2025-06-10T19:04:38.008601Z",
     "iopub.status.idle": "2025-06-10T19:04:38.018638Z",
     "shell.execute_reply": "2025-06-10T19:04:38.017716Z"
    },
    "papermill": {
     "duration": 0.020205,
     "end_time": "2025-06-10T19:04:38.019917",
     "exception": false,
     "start_time": "2025-06-10T19:04:37.999712",
     "status": "completed"
    },
    "tags": []
   },
   "outputs": [],
   "source": [
    "import torch\n",
    "import torch.nn as nn\n",
    "from einops import rearrange, reduce\n",
    "from typing import Optional, Tuple\n",
    "\n",
    "\n",
    "\n",
    "\n",
    "class RotaryEmbedding(nn.Module):\n",
    "    \"\"\"\n",
    "    RotaryEmbedding is a PyTorch module that implements rotary positional embeddings for attention mechanisms.\n",
    "    Args:\n",
    "        config (object): Configuration object containing the following attributes:\n",
    "            hidden_size (int): The hidden size of the model.\n",
    "            num_attention_heads (int): The number of attention heads.\n",
    "    Attributes:\n",
    "        inv_freq (torch.Tensor): A tensor containing the inverse frequencies for the rotary embeddings.\n",
    "    Methods:\n",
    "        forward(seq_len):\n",
    "            Computes the rotary positional embeddings for a given sequence length.\n",
    "            Args:\n",
    "                seq_len (int): The length of the input sequence.\n",
    "            Returns:\n",
    "                torch.Tensor: A tensor containing the rotary positional embeddings with shape (1, seq_len, dim).\n",
    "    \"\"\"\n",
    "\n",
    "    def __init__(self, config):\n",
    "        super().__init__()\n",
    "        dim = int(config.hidden_size // config.num_attention_heads)\n",
    "        inv_freq = 1.0 / (10000 ** (torch.arange(0, dim, 2).float() / dim))\n",
    "        self.register_buffer(\"inv_freq\", inv_freq)\n",
    "\n",
    "    def forward(self, seq_len):\n",
    "        t = torch.arange(seq_len, device=self.inv_freq.device).type_as(self.inv_freq)\n",
    "        freqs = torch.einsum(\"i, j -> i j\", t, self.inv_freq)\n",
    "\n",
    "        return freqs[None, :, :]\n",
    "\n",
    "\n",
    "def rotate_half(x):\n",
    "    \"\"\"\n",
    "    Rotates half the hidden dimensions of the input tensor.\n",
    "\n",
    "    Args:\n",
    "        x (torch.Tensor): The input tensor to be rotated.\n",
    "\n",
    "    Returns:\n",
    "        torch.Tensor: The tensor with half of its hidden dimensions rotated.\n",
    "    \"\"\"\n",
    "    x1, x2 = x.chunk(2, dim=-1)\n",
    "    return torch.cat((-x2, x1), dim=-1)\n",
    "\n",
    "\n",
    "# Copied from transformers.models.llama.modeling_llama.apply_rotary_pos_emb\n",
    "def apply_rotary_pos_emb(\n",
    "    q, k, freqs, only_q: bool = False, unsqueeze_dim=1\n",
    ") -> Tuple[torch.Tensor]:\n",
    "    \"\"\"Applies Rotary Position Embedding to the query and key tensors.\n",
    "\n",
    "    Args:\n",
    "        q (`torch.Tensor`): The query tensor.\n",
    "        k (`torch.Tensor`): The key tensor.\n",
    "        freqs: precalculated frqs for sin cos\n",
    "        only_q: bool = False for encoder decoder\n",
    "        unsqueeze_dim (`int`, *optional*, defaults to 1):\n",
    "            The 'unsqueeze_dim' argument specifies the dimension along which to unsqueeze cos[position_ids] and\n",
    "            sin[position_ids] so that they can be properly broadcasted to the dimensions of q and k. For example, note\n",
    "            that cos[position_ids] and sin[position_ids] have the shape [batch_size, seq_len, head_dim]. Then, if q and\n",
    "            k have the shape [batch_size, heads, seq_len, head_dim], then setting unsqueeze_dim=1 makes\n",
    "            cos[position_ids] and sin[position_ids] broadcastable to the shapes of q and k. Similarly, if q and k have\n",
    "            the shape [batch_size, seq_len, heads, head_dim], then set unsqueeze_dim=2.\n",
    "    Returns:\n",
    "        `tuple(torch.Tensor)` comprising of the query and key tensors rotated using the Rotary Position Embedding.\n",
    "    \"\"\"\n",
    "    emb = torch.cat((freqs, freqs), dim=-1)\n",
    "    cos = emb.cos()\n",
    "    sin = emb.sin()\n",
    "    cos = cos.unsqueeze(unsqueeze_dim)\n",
    "    sin = sin.unsqueeze(unsqueeze_dim)\n",
    "    #     print(cos.size(),sin.size(),q.size(),k.size())\n",
    "    if only_q:\n",
    "        q_embed = (q * cos) + (rotate_half(q) * sin)\n",
    "    else:\n",
    "\n",
    "        q_embed = (q * cos) + (rotate_half(q) * sin)\n",
    "        k_embed = (k * cos) + (rotate_half(k) * sin)\n",
    "        return q_embed, k_embed\n",
    "\n",
    "\n",
    "# To do :  Alibi"
   ]
  },
  {
   "cell_type": "code",
   "execution_count": 23,
   "id": "e6fb6736",
   "metadata": {
    "execution": {
     "iopub.execute_input": "2025-06-10T19:04:38.037220Z",
     "iopub.status.busy": "2025-06-10T19:04:38.036668Z",
     "iopub.status.idle": "2025-06-10T19:04:38.043767Z",
     "shell.execute_reply": "2025-06-10T19:04:38.042930Z"
    },
    "papermill": {
     "duration": 0.017156,
     "end_time": "2025-06-10T19:04:38.045131",
     "exception": false,
     "start_time": "2025-06-10T19:04:38.027975",
     "status": "completed"
    },
    "tags": []
   },
   "outputs": [],
   "source": [
    "import torch\n",
    "import torch.nn as nn\n",
    "from einops import rearrange, reduce\n",
    "from typing import Optional, Tuple, Union\n",
    "\n",
    "\n",
    "\n",
    "class FeedForward(nn.Module):\n",
    "    def __init__(self, config, multiplier: Union[int, float] = 4) -> None:\n",
    "        super().__init__()\n",
    "        self.intermediate = nn.Linear(\n",
    "            config.hidden_size, int(multiplier) * config.hidden_size\n",
    "        )\n",
    "        self.dropout = nn.Dropout(config.hidden_dropout_prob)\n",
    "        self.layerNorm = nn.LayerNorm(config.hidden_size, eps=config.layer_norm_eps)\n",
    "       \n",
    "        self.act_fn = nn.GELU()\n",
    "        self.out = nn.Linear(int(multiplier) * config.hidden_size, config.hidden_size)\n",
    "\n",
    "    def forward(\n",
    "        self, hidden_state: torch.Tensor,input_tensor=None\n",
    "    ) -> torch.Tensor:\n",
    "        output = self.intermediate(hidden_state)\n",
    "        output = self.act_fn(output)\n",
    "        output = self.out(output)\n",
    "        output = self.dropout(output)\n",
    "        if input_tensor is None:\n",
    "            output = self.layerNorm(output)\n",
    "        else:\n",
    "            output = self.layerNorm(output+input_tensor)\n",
    "            \n",
    "        return output"
   ]
  },
  {
   "cell_type": "code",
   "execution_count": 24,
   "id": "cce8fa0f",
   "metadata": {
    "execution": {
     "iopub.execute_input": "2025-06-10T19:04:38.063258Z",
     "iopub.status.busy": "2025-06-10T19:04:38.062503Z",
     "iopub.status.idle": "2025-06-10T19:04:38.074578Z",
     "shell.execute_reply": "2025-06-10T19:04:38.073965Z"
    },
    "papermill": {
     "duration": 0.022684,
     "end_time": "2025-06-10T19:04:38.075929",
     "exception": false,
     "start_time": "2025-06-10T19:04:38.053245",
     "status": "completed"
    },
    "tags": []
   },
   "outputs": [],
   "source": [
    "import torch\n",
    "import torch.nn as nn\n",
    "from typing import Optional, Tuple\n",
    "\n",
    "from dataclasses import dataclass\n",
    "\n",
    "\n",
    "\n",
    "@dataclass\n",
    "class EncoderOutput(object):\n",
    "    logits: torch.Tensor\n",
    "\n",
    "\n",
    "@dataclass\n",
    "class MLMOutput(object):\n",
    "    hidden_state: torch.Tensor\n",
    "    logits: torch.Tensor\n",
    "\n",
    "\n",
    "class EncoderLayer(nn.Module):\n",
    "    def __init__(self, config, layer_idx: int, attention_type: str = None) -> None:\n",
    "        super().__init__()\n",
    "        self.attention = (\n",
    "            EncoderAttention(config, layer_idx=layer_idx)\n",
    "          \n",
    "        )\n",
    "        \n",
    "        self.feed_forward = FeedForward(config)\n",
    "        self.layer_idx = layer_idx\n",
    "\n",
    "    def forward(\n",
    "        self,\n",
    "        hidden_state: torch.Tensor,\n",
    "        attention_mask: torch.Tensor,\n",
    "        freqs: torch.Tensor = None,\n",
    "    ) -> torch.Tensor:\n",
    "        # residual = hidden_state\n",
    "        out = self.attention(\n",
    "            hidden_state=hidden_state, attention_mask=attention_mask, freqs=freqs\n",
    "        )\n",
    "        # out = residual+out\n",
    "        # residual = out\n",
    "        out = self.feed_forward(out,hidden_state)\n",
    "        return out\n",
    "\n",
    "\n",
    "class EncoderModel(nn.Module):\n",
    "\n",
    "    def __init__(\n",
    "        self,\n",
    "        config,\n",
    "        pos_embedding_type: Optional[str] = \"absolute\",\n",
    "        attention_type: str = None,\n",
    "    ) -> None:\n",
    "        super().__init__()\n",
    "        self.word_embeddings = nn.Embedding(\n",
    "            config.vocab_size,\n",
    "            config.hidden_size,\n",
    "            padding_idx=getattr(config, \"pad_token_id\", None),\n",
    "        )\n",
    "       \n",
    "       \n",
    "        self.emb_freq = RotaryEmbedding(config)(config.max_position_embeddings)\n",
    "       \n",
    "        self.all_layer = nn.ModuleList(\n",
    "            [\n",
    "                EncoderLayer(config, layer_idx, attention_type)\n",
    "                for layer_idx in range(config.num_hidden_layers)\n",
    "            ]\n",
    "        )\n",
    "\n",
    "    def forward(\n",
    "        self, input_ids: torch.Tensor, attention_mask: torch.Tensor\n",
    "    ) -> torch.Tensor:\n",
    "        bsz, seqlen = input_ids.shape\n",
    "        hidden_state = self.word_embeddings(input_ids)\n",
    "        freqs = None\n",
    "        \n",
    "        freqs = self.emb_freq[:, :seqlen].to(input_ids.device)\n",
    "\n",
    "        attention_mask = attention_mask.unsqueeze(1).unsqueeze(2).type_as(hidden_state)\n",
    "        attention_mask = (1.0 - attention_mask) * torch.finfo(hidden_state.dtype).min\n",
    "\n",
    "        for layer in self.all_layer:\n",
    "            hidden_state = layer(hidden_state, attention_mask, freqs)\n",
    "        return EncoderOutput(hidden_state)\n",
    "\n",
    "    @classmethod\n",
    "    def from_config(\n",
    "        cls,\n",
    "        config,\n",
    "        pos_embedding_type: Optional[str] = \"absolute\",\n",
    "        attention_type: str = None,\n",
    "    ) -> nn.Module:\n",
    "        return cls(config, pos_embedding_type, attention_type)"
   ]
  },
  {
   "cell_type": "code",
   "execution_count": 25,
   "id": "e46b049d",
   "metadata": {
    "execution": {
     "iopub.execute_input": "2025-06-10T19:04:38.093193Z",
     "iopub.status.busy": "2025-06-10T19:04:38.092540Z",
     "iopub.status.idle": "2025-06-10T19:04:38.098680Z",
     "shell.execute_reply": "2025-06-10T19:04:38.098008Z"
    },
    "papermill": {
     "duration": 0.016104,
     "end_time": "2025-06-10T19:04:38.099951",
     "exception": false,
     "start_time": "2025-06-10T19:04:38.083847",
     "status": "completed"
    },
    "tags": []
   },
   "outputs": [
    {
     "data": {
      "text/plain": [
       "RobertaConfig {\n",
       "  \"architectures\": [\n",
       "    \"RobertaForMaskedLM\"\n",
       "  ],\n",
       "  \"attention_probs_dropout_prob\": 0.1,\n",
       "  \"bos_token_id\": 0,\n",
       "  \"classifier_dropout\": null,\n",
       "  \"eos_token_id\": 2,\n",
       "  \"hidden_act\": \"gelu\",\n",
       "  \"hidden_dropout_prob\": 0.1,\n",
       "  \"hidden_size\": 768,\n",
       "  \"initializer_range\": 0.02,\n",
       "  \"intermediate_size\": 3072,\n",
       "  \"layer_norm_eps\": 1e-05,\n",
       "  \"max_position_embeddings\": 514,\n",
       "  \"model_type\": \"roberta\",\n",
       "  \"num_attention_heads\": 12,\n",
       "  \"num_hidden_layers\": 12,\n",
       "  \"pad_token_id\": 1,\n",
       "  \"position_embedding_type\": \"absolute\",\n",
       "  \"transformers_version\": \"4.51.3\",\n",
       "  \"type_vocab_size\": 1,\n",
       "  \"use_cache\": true,\n",
       "  \"vocab_size\": 50265\n",
       "}"
      ]
     },
     "execution_count": 25,
     "metadata": {},
     "output_type": "execute_result"
    }
   ],
   "source": [
    "config"
   ]
  },
  {
   "cell_type": "code",
   "execution_count": 26,
   "id": "447ee8de",
   "metadata": {
    "execution": {
     "iopub.execute_input": "2025-06-10T19:04:38.117772Z",
     "iopub.status.busy": "2025-06-10T19:04:38.117077Z",
     "iopub.status.idle": "2025-06-10T19:04:38.120510Z",
     "shell.execute_reply": "2025-06-10T19:04:38.119850Z"
    },
    "papermill": {
     "duration": 0.013846,
     "end_time": "2025-06-10T19:04:38.121759",
     "exception": false,
     "start_time": "2025-06-10T19:04:38.107913",
     "status": "completed"
    },
    "tags": []
   },
   "outputs": [],
   "source": [
    "# config.hidden_size = 256\n",
    "# config.intermediate_size = 1024\n",
    "# config.num_attention_heads = 8"
   ]
  },
  {
   "cell_type": "code",
   "execution_count": 27,
   "id": "9888233f",
   "metadata": {
    "execution": {
     "iopub.execute_input": "2025-06-10T19:04:38.139850Z",
     "iopub.status.busy": "2025-06-10T19:04:38.139552Z",
     "iopub.status.idle": "2025-06-10T19:04:38.945645Z",
     "shell.execute_reply": "2025-06-10T19:04:38.944615Z"
    },
    "papermill": {
     "duration": 0.817288,
     "end_time": "2025-06-10T19:04:38.947792",
     "exception": false,
     "start_time": "2025-06-10T19:04:38.130504",
     "status": "completed"
    },
    "tags": []
   },
   "outputs": [],
   "source": [
    "config.num_hidden_layers = 6\n",
    "model = EncoderModel(config,pos_embedding_type='rope')"
   ]
  },
  {
   "cell_type": "code",
   "execution_count": 28,
   "id": "1caa3932",
   "metadata": {
    "execution": {
     "iopub.execute_input": "2025-06-10T19:04:38.978187Z",
     "iopub.status.busy": "2025-06-10T19:04:38.977425Z",
     "iopub.status.idle": "2025-06-10T19:04:38.985705Z",
     "shell.execute_reply": "2025-06-10T19:04:38.984654Z"
    },
    "papermill": {
     "duration": 0.023155,
     "end_time": "2025-06-10T19:04:38.987472",
     "exception": false,
     "start_time": "2025-06-10T19:04:38.964317",
     "status": "completed"
    },
    "tags": []
   },
   "outputs": [
    {
     "data": {
      "text/plain": [
       "EncoderModel(\n",
       "  (word_embeddings): Embedding(50265, 768, padding_idx=1)\n",
       "  (all_layer): ModuleList(\n",
       "    (0-5): 6 x EncoderLayer(\n",
       "      (attention): EncoderAttention(\n",
       "        (q): Linear(in_features=768, out_features=768, bias=True)\n",
       "        (k): Linear(in_features=768, out_features=768, bias=True)\n",
       "        (v): Linear(in_features=768, out_features=768, bias=True)\n",
       "        (out): Linear(in_features=768, out_features=768, bias=True)\n",
       "      )\n",
       "      (feed_forward): FeedForward(\n",
       "        (intermediate): Linear(in_features=768, out_features=3072, bias=True)\n",
       "        (dropout): Dropout(p=0.1, inplace=False)\n",
       "        (layerNorm): LayerNorm((768,), eps=1e-05, elementwise_affine=True)\n",
       "        (act_fn): GELU(approximate='none')\n",
       "        (out): Linear(in_features=3072, out_features=768, bias=True)\n",
       "      )\n",
       "    )\n",
       "  )\n",
       ")"
      ]
     },
     "execution_count": 28,
     "metadata": {},
     "output_type": "execute_result"
    }
   ],
   "source": [
    "model"
   ]
  },
  {
   "cell_type": "code",
   "execution_count": 29,
   "id": "507cbc92",
   "metadata": {
    "execution": {
     "iopub.execute_input": "2025-06-10T19:04:39.024603Z",
     "iopub.status.busy": "2025-06-10T19:04:39.023429Z",
     "iopub.status.idle": "2025-06-10T19:04:39.028668Z",
     "shell.execute_reply": "2025-06-10T19:04:39.027653Z"
    },
    "papermill": {
     "duration": 0.02935,
     "end_time": "2025-06-10T19:04:39.030726",
     "exception": false,
     "start_time": "2025-06-10T19:04:39.001376",
     "status": "completed"
    },
    "tags": []
   },
   "outputs": [],
   "source": [
    "# mm = nn.AdaptiveAvgPool1d(256)"
   ]
  },
  {
   "cell_type": "code",
   "execution_count": 30,
   "id": "080c7f12",
   "metadata": {
    "execution": {
     "iopub.execute_input": "2025-06-10T19:04:39.058059Z",
     "iopub.status.busy": "2025-06-10T19:04:39.057533Z",
     "iopub.status.idle": "2025-06-10T19:04:39.063090Z",
     "shell.execute_reply": "2025-06-10T19:04:39.061874Z"
    },
    "papermill": {
     "duration": 0.022954,
     "end_time": "2025-06-10T19:04:39.065130",
     "exception": false,
     "start_time": "2025-06-10T19:04:39.042176",
     "status": "completed"
    },
    "tags": []
   },
   "outputs": [],
   "source": [
    "# out = mm(m.embeddings.word_embeddings.weight)"
   ]
  },
  {
   "cell_type": "code",
   "execution_count": 31,
   "id": "0e1df660",
   "metadata": {
    "execution": {
     "iopub.execute_input": "2025-06-10T19:04:39.096903Z",
     "iopub.status.busy": "2025-06-10T19:04:39.095924Z",
     "iopub.status.idle": "2025-06-10T19:04:39.123842Z",
     "shell.execute_reply": "2025-06-10T19:04:39.122777Z"
    },
    "papermill": {
     "duration": 0.049301,
     "end_time": "2025-06-10T19:04:39.125720",
     "exception": false,
     "start_time": "2025-06-10T19:04:39.076419",
     "status": "completed"
    },
    "tags": []
   },
   "outputs": [],
   "source": [
    "model.word_embeddings.weight = nn.Parameter(wb_new) #.embeddings.word_embeddings.weight #Ex768 to Ex256"
   ]
  },
  {
   "cell_type": "code",
   "execution_count": 32,
   "id": "9cd85e97",
   "metadata": {
    "execution": {
     "iopub.execute_input": "2025-06-10T19:04:39.158741Z",
     "iopub.status.busy": "2025-06-10T19:04:39.158322Z",
     "iopub.status.idle": "2025-06-10T19:04:39.165691Z",
     "shell.execute_reply": "2025-06-10T19:04:39.164682Z"
    },
    "papermill": {
     "duration": 0.024315,
     "end_time": "2025-06-10T19:04:39.167348",
     "exception": false,
     "start_time": "2025-06-10T19:04:39.143033",
     "status": "completed"
    },
    "tags": []
   },
   "outputs": [],
   "source": [
    "class ClinicModel(nn.Module):\n",
    "    def __init__(self,model,n_classes=n_classes):\n",
    "        super(ClinicModel, self).__init__()\n",
    "        self.model = model\n",
    "        self.output = nn.Linear(768, n_classes)\n",
    "\n",
    "    def forward(self, ids, mask):\n",
    "        sequence_output = self.model(ids, mask).logits[:, 0, :]\n",
    "        # print(sequence_output.size())\n",
    "        #         sequence_output = sequence_output[:, 0, :]\n",
    "        logits = self.output(sequence_output)\n",
    "        return logits"
   ]
  },
  {
   "cell_type": "code",
   "execution_count": null,
   "id": "e1d7b425",
   "metadata": {
    "papermill": {
     "duration": 0.012147,
     "end_time": "2025-06-10T19:04:39.193648",
     "exception": false,
     "start_time": "2025-06-10T19:04:39.181501",
     "status": "completed"
    },
    "tags": []
   },
   "outputs": [],
   "source": []
  },
  {
   "cell_type": "code",
   "execution_count": 33,
   "id": "eafcd962",
   "metadata": {
    "execution": {
     "iopub.execute_input": "2025-06-10T19:04:39.229835Z",
     "iopub.status.busy": "2025-06-10T19:04:39.228989Z",
     "iopub.status.idle": "2025-06-10T19:04:40.000697Z",
     "shell.execute_reply": "2025-06-10T19:04:39.999972Z"
    },
    "papermill": {
     "duration": 0.795348,
     "end_time": "2025-06-10T19:04:40.002232",
     "exception": false,
     "start_time": "2025-06-10T19:04:39.206884",
     "status": "completed"
    },
    "tags": []
   },
   "outputs": [],
   "source": [
    "train_texts = train[\"Text\"].values.tolist()\n",
    "val_texts = valid[\"Text\"].values.tolist()\n",
    "train_labels = train[\"Target\"].values.tolist()\n",
    "val_labels = valid[\"Target\"].values.tolist()\n",
    "train_encodings = tokenizer(train_texts, truncation=True, padding=True, max_length=128)\n",
    "val_encodings = tokenizer(val_texts, truncation=True, padding=True, max_length=128)\n",
    "\n",
    "\n",
    "class ClinicDatasetV2(torch.utils.data.Dataset):\n",
    "    def __init__(self, encodings, labels):\n",
    "        self.encodings = encodings\n",
    "        self.labels = labels\n",
    "\n",
    "    def __getitem__(self, idx):\n",
    "        item = {key: torch.tensor(val[idx]) for key, val in self.encodings.items()}\n",
    "        item[\"labels\"] = torch.tensor(self.labels[idx])\n",
    "        return {\n",
    "            \"ids\": item.get(\"input_ids\"),\n",
    "            \"mask\": item.get(\"attention_mask\"),\n",
    "            \"labels\": item.get(\"labels\"),\n",
    "        }\n",
    "\n",
    "    def __len__(self):\n",
    "        return len(self.labels)\n",
    "\n",
    "\n",
    "train_loader = torch.utils.data.DataLoader(\n",
    "    ClinicDatasetV2(train_encodings, train_labels),\n",
    "    batch_size=BATCH_SIZE,\n",
    "    shuffle=True,\n",
    "    num_workers=2,\n",
    ")\n",
    "val_loader = torch.utils.data.DataLoader(\n",
    "    ClinicDatasetV2(val_encodings, val_labels),\n",
    "    batch_size=BATCH_SIZE,\n",
    "    shuffle=False,\n",
    "    num_workers=2,\n",
    ")"
   ]
  },
  {
   "cell_type": "code",
   "execution_count": 34,
   "id": "c36b7353",
   "metadata": {
    "execution": {
     "iopub.execute_input": "2025-06-10T19:04:40.020272Z",
     "iopub.status.busy": "2025-06-10T19:04:40.019377Z",
     "iopub.status.idle": "2025-06-10T19:04:40.023789Z",
     "shell.execute_reply": "2025-06-10T19:04:40.022989Z"
    },
    "papermill": {
     "duration": 0.014679,
     "end_time": "2025-06-10T19:04:40.025164",
     "exception": false,
     "start_time": "2025-06-10T19:04:40.010485",
     "status": "completed"
    },
    "tags": []
   },
   "outputs": [],
   "source": [
    "device = torch.device(\"cuda\" if torch.cuda.is_available() else \"cpu\")"
   ]
  },
  {
   "cell_type": "code",
   "execution_count": 35,
   "id": "63ea461c",
   "metadata": {
    "execution": {
     "iopub.execute_input": "2025-06-10T19:04:40.043035Z",
     "iopub.status.busy": "2025-06-10T19:04:40.042687Z",
     "iopub.status.idle": "2025-06-10T19:04:40.049534Z",
     "shell.execute_reply": "2025-06-10T19:04:40.048845Z"
    },
    "papermill": {
     "duration": 0.01697,
     "end_time": "2025-06-10T19:04:40.050730",
     "exception": false,
     "start_time": "2025-06-10T19:04:40.033760",
     "status": "completed"
    },
    "tags": []
   },
   "outputs": [],
   "source": [
    "def valid_func(model, val_loader):\n",
    "    model.eval()\n",
    "    loss_fn = torch.nn.CrossEntropyLoss()\n",
    "    PROB = []\n",
    "    TARGETS = []\n",
    "    losses = []\n",
    "    PREDS = []\n",
    "\n",
    "    for batch_idx, data in enumerate(val_loader):\n",
    "        input_ids = data[\"ids\"].to(device)\n",
    "        input_masks = data[\"mask\"].to(device)\n",
    "        targets = data[\"labels\"].long().view(-1).to(device)\n",
    "        with torch.no_grad():\n",
    "            logits = model(input_ids, input_masks)\n",
    "            \n",
    "        # logits = logits.argmax(logits, 1)\n",
    "            \n",
    "        # logits, targets = accelerator.gather_for_metrics((logits, targets))\n",
    "\n",
    "        PREDS += [torch.argmax(logits, 1).detach().cpu()]\n",
    "        TARGETS += [targets.detach().cpu()]\n",
    "\n",
    "        loss = loss_fn(logits, targets)\n",
    "        losses.append(loss.item())\n",
    "\n",
    "    PREDS = torch.cat(PREDS).cpu().numpy()\n",
    "    TARGETS = torch.cat(TARGETS).cpu().numpy()\n",
    "    accuracy = (PREDS == TARGETS).mean()\n",
    "\n",
    "    loss_valid = np.mean(losses)\n",
    "    return loss_valid, accuracy"
   ]
  },
  {
   "cell_type": "code",
   "execution_count": 36,
   "id": "e99ebe6b",
   "metadata": {
    "execution": {
     "iopub.execute_input": "2025-06-10T19:04:40.068203Z",
     "iopub.status.busy": "2025-06-10T19:04:40.067539Z",
     "iopub.status.idle": "2025-06-10T19:04:40.071963Z",
     "shell.execute_reply": "2025-06-10T19:04:40.071177Z"
    },
    "papermill": {
     "duration": 0.014525,
     "end_time": "2025-06-10T19:04:40.073222",
     "exception": false,
     "start_time": "2025-06-10T19:04:40.058697",
     "status": "completed"
    },
    "tags": []
   },
   "outputs": [],
   "source": [
    "model = ClinicModel(model)"
   ]
  },
  {
   "cell_type": "code",
   "execution_count": 37,
   "id": "3b2e1153",
   "metadata": {
    "execution": {
     "iopub.execute_input": "2025-06-10T19:04:40.091558Z",
     "iopub.status.busy": "2025-06-10T19:04:40.090918Z",
     "iopub.status.idle": "2025-06-10T19:04:40.096450Z",
     "shell.execute_reply": "2025-06-10T19:04:40.095707Z"
    },
    "papermill": {
     "duration": 0.016153,
     "end_time": "2025-06-10T19:04:40.097808",
     "exception": false,
     "start_time": "2025-06-10T19:04:40.081655",
     "status": "completed"
    },
    "tags": []
   },
   "outputs": [
    {
     "data": {
      "text/plain": [
       "ClinicModel(\n",
       "  (model): EncoderModel(\n",
       "    (word_embeddings): Embedding(50265, 768, padding_idx=1)\n",
       "    (all_layer): ModuleList(\n",
       "      (0-5): 6 x EncoderLayer(\n",
       "        (attention): EncoderAttention(\n",
       "          (q): Linear(in_features=768, out_features=768, bias=True)\n",
       "          (k): Linear(in_features=768, out_features=768, bias=True)\n",
       "          (v): Linear(in_features=768, out_features=768, bias=True)\n",
       "          (out): Linear(in_features=768, out_features=768, bias=True)\n",
       "        )\n",
       "        (feed_forward): FeedForward(\n",
       "          (intermediate): Linear(in_features=768, out_features=3072, bias=True)\n",
       "          (dropout): Dropout(p=0.1, inplace=False)\n",
       "          (layerNorm): LayerNorm((768,), eps=1e-05, elementwise_affine=True)\n",
       "          (act_fn): GELU(approximate='none')\n",
       "          (out): Linear(in_features=3072, out_features=768, bias=True)\n",
       "        )\n",
       "      )\n",
       "    )\n",
       "  )\n",
       "  (output): Linear(in_features=768, out_features=3, bias=True)\n",
       ")"
      ]
     },
     "execution_count": 37,
     "metadata": {},
     "output_type": "execute_result"
    }
   ],
   "source": [
    "model"
   ]
  },
  {
   "cell_type": "code",
   "execution_count": 38,
   "id": "d1d9a23a",
   "metadata": {
    "execution": {
     "iopub.execute_input": "2025-06-10T19:04:40.126432Z",
     "iopub.status.busy": "2025-06-10T19:04:40.125897Z",
     "iopub.status.idle": "2025-06-10T19:04:40.140650Z",
     "shell.execute_reply": "2025-06-10T19:04:40.139793Z"
    },
    "papermill": {
     "duration": 0.031732,
     "end_time": "2025-06-10T19:04:40.142024",
     "exception": false,
     "start_time": "2025-06-10T19:04:40.110292",
     "status": "completed"
    },
    "tags": []
   },
   "outputs": [
    {
     "data": {
      "text/plain": [
       "7.0"
      ]
     },
     "execution_count": 38,
     "metadata": {},
     "output_type": "execute_result"
    }
   ],
   "source": [
    "def main(model,train_loader,val_loader,lr=1e-4,num_epochs= 10,name='Rope_classification'):\n",
    "\n",
    "    loss_fn = torch.nn.CrossEntropyLoss()\n",
    "    optimizer = torch.optim.AdamW(model.parameters(), lr=lr)\n",
    "    num_train_optimization_steps = int(EPOCHS * len(train_loader) / accumulation_steps)\n",
    "    model.to(device)\n",
    "    model.train()\n",
    "    scheduler = torch.optim.lr_scheduler.LinearLR(optimizer,total_iters=5)\n",
    "    use_amp=True\n",
    "    if use_amp:\n",
    "        scaler = torch.cuda.amp.GradScaler()\n",
    "        \n",
    "    for epoch in range(num_epochs):\n",
    "        avg_loss = 0.0\n",
    "        model.train()\n",
    "        loss_list = []\n",
    "        for step, data in enumerate(train_loader):\n",
    "            input_ids = data[\"ids\"].to(device)\n",
    "            input_masks = data[\"mask\"].to(device)\n",
    "            targets = data[\"labels\"].long().view(-1).to(device)\n",
    "            if use_amp:\n",
    "                with torch.cuda.amp.autocast():\n",
    "                     pred = model(input_ids,input_masks)\n",
    "                     loss = loss_fn(pred, targets)\n",
    "                scaler.scale(loss).backward()\n",
    "                if step % accumulation_steps == 0:\n",
    "                    scaler.step(optimizer)\n",
    "                    scaler.update()\n",
    "                    optimizer.zero_grad()\n",
    "            else:\n",
    "                pred = model(input_ids,input_masks)\n",
    "                loss = loss_fn(pred, targets)\n",
    "                loss.backward()\n",
    "                optimizer.step()\n",
    "                optimizer.zero_grad()\n",
    "            loss_list.append(loss.detach().cpu().item())\n",
    "                \n",
    "        avg_loss = np.round(np.mean(loss_list), 4)\n",
    "        scheduler.step()  \n",
    "        vloss, vaccuracy = valid_func(model, val_loader)\n",
    "        print(f'loss-{avg_loss}  vloss-{vloss}  vaccuracy-{vaccuracy} lr-{scheduler.get_lr()}')\n",
    "        \n",
    "    torch.save(model.state_dict(),'rope_classification_model.pt')\n",
    "\n",
    "#clinc_oos\n",
    "\n",
    "2. \n",
    " #modified residuals slow convergence\n",
    " #Lr = 1e-4  torch.optim.lr_scheduler.LinearLR(optimizer,total_iters=5) 768 6 layers\n",
    "#loss-3.519  vloss-1.416838092803955  vaccuracy-0.6712903225806451 lr-[6.533333333333334e-05]\n",
    "# loss-0.7406  vloss-0.7829630851745606  vaccuracy-0.8187096774193549 lr-[7.714285714285715e-05]\n",
    "# loss-0.2815  vloss-0.6723056697845459  vaccuracy-0.8435483870967742 lr-[8.962962962962965e-05]\n",
    "# loss-0.1328  vloss-0.6958784103393555  vaccuracy-0.847741935483871 lr-[0.00010242424242424244]\n",
    "# loss-0.076  vloss-0.7030221927165985  vaccuracy-0.8580645161290322 lr-[0.00011538461538461538]\n",
    "\n",
    "3.\n",
    "# No resudiols excpe norm(a+b)\n",
    " #Lr = 1e-4  torch.optim.lr_scheduler.LinearLR(optimizer,total_iters=5) 768 6 layers\n",
    "# loss-4.6004  vloss-3.754952154159546  vaccuracy-0.28483870967741937 lr-[6.533333333333334e-05]\n",
    "# loss-1.8394  vloss-1.0517843627929688  vaccuracy-0.7516129032258064 lr-[7.714285714285715e-05]\n",
    "# loss-0.5617  vloss-0.6701418471336364  vaccuracy-0.847741935483871 lr-[8.962962962962965e-05]\n",
    "# loss-0.2628  vloss-0.5679526901245118  vaccuracy-0.8625806451612903 lr-[0.00010242424242424244]\n",
    "# loss-0.126  vloss-0.557751653790474  vaccuracy-0.8729032258064516 lr-[0.00011538461538461538]\n",
    "\n",
    "4.\n",
    "# No resudiols excpe norm(a+b)\n",
    " #Lr = 1e-4  torch.optim.lr_scheduler.LinearLR(optimizer,total_iters=5) 256-1024 8 heads 6 layers\n",
    "# loss-5.0718  vloss-4.951975498199463  vaccuracy-0.02870967741935484 lr-[6.533333333333334e-05]\n",
    "# loss-4.7267  vloss-4.321675539016724  vaccuracy-0.12870967741935485 lr-[7.714285714285715e-05]\n",
    "# loss-3.2132  vloss-2.305281443595886  vaccuracy-0.58 lr-[8.962962962962965e-05]\n",
    "# loss-1.822  vloss-1.5857904052734375  vaccuracy-0.7148387096774194 lr-[0.00010242424242424244]\n",
    "# loss-1.1891  vloss-1.2349900889396668  vaccuracy-0.7706451612903226 lr-[0.00011538461538461538]\n",
    "# loss-0.8445  vloss-1.0171792769432069  vaccuracy-0.8041935483870968 lr-[0.0001]\n",
    "# loss-0.6212  vloss-0.9189858269691468  vaccuracy-0.8216129032258065 lr-[0.0001]\n",
    "# loss-0.4807  vloss-0.8313448286056518  vaccuracy-0.8367741935483871 lr-[0.0001]\n",
    "# loss-0.371  vloss-0.7519079637527466  vaccuracy-0.8406451612903226 lr-[0.0001]\n",
    "# loss-0.2944  vloss-0.7201029181480407  vaccuracy-0.8519354838709677 lr-[0.0001]\n",
    "\n",
    "5.\n",
    "# No resudiols excpe norm(a+b)\n",
    "#with roberta embbding load m.emd = orginal\n",
    " #Lr = 1e-4  torch.optim.lr_scheduler.LinearLR(optimizer,total_iters=5) 768 6 layers\n",
    "# loss-4.6015  vloss-3.510575141906738  vaccuracy-0.4138709677419355 lr-[6.533333333333334e-05]\n",
    "# loss-1.2933  vloss-0.6621843695640564  vaccuracy-0.8429032258064516 lr-[7.714285714285715e-05]\n",
    "# loss-0.3632  vloss-0.4367950350046158  vaccuracy-0.8919354838709678 lr-[8.962962962962965e-05]\n",
    "# loss-0.1829  vloss-0.41328111618757246  vaccuracy-0.9112903225806451 lr-[0.00010242424242424244]\n",
    "# loss-0.0984  vloss-0.3604964795708656  vaccuracy-0.9187096774193548 lr-[0.00011538461538461538]\n",
    "# loss-0.0554  vloss-0.36992620140314103  vaccuracy-0.9190322580645162 lr-[0.0001]\n",
    "# loss-0.0323  vloss-0.39370779871940614  vaccuracy-0.9196774193548387 lr-[0.0001]\n",
    "# loss-0.0211  vloss-0.37983833193778993  vaccuracy-0.9187096774193548 lr-[0.0001]\n",
    "# loss-0.015  vloss-0.4007080364227295  vaccuracy-0.9219354838709677 lr-[0.0001]\n",
    "# loss-0.0122  vloss-0.3864754791557789  vaccuracy-0.9248387096774193 lr-[0.0001]\n",
    "\n",
    "6.\n",
    "# No resudiols excpe norm(a+b)\n",
    "#with roberta embbding load m.emd = orginal Ex256 nn.adaptive(256)\n",
    " #Lr = 1e-4  torch.optim.lr_scheduler.LinearLR(optimizer,total_iters=5) 256-1024 8 heads 6 layers\n",
    "# loss-5.0258  vloss-4.900219707489014  vaccuracy-0.03225806451612903 lr-[6.533333333333334e-05]\n",
    "# loss-4.7275  vloss-4.23483585357666  vaccuracy-0.2567741935483871 lr-[7.714285714285715e-05]\n",
    "# loss-2.644  vloss-1.637240972518921  vaccuracy-0.7216129032258064 lr-[8.962962962962965e-05]\n",
    "# loss-1.2201  vloss-1.0289009785652161  vaccuracy-0.8196774193548387 lr-[0.00010242424242424244]\n",
    "# loss-0.7456  vloss-0.8052865409851074  vaccuracy-0.8412903225806452 lr-[0.00011538461538461538]\n",
    "# loss-0.5062  vloss-0.6784856510162354  vaccuracy-0.8667741935483871 lr-[0.0001]\n",
    "# loss-0.3587  vloss-0.5841309988498687  vaccuracy-0.8806451612903226 lr-[0.0001]\n",
    "# loss-0.2681  vloss-0.5630187004804611  vaccuracy-0.8877419354838709 lr-[0.0001]\n",
    "# loss-0.2035  vloss-0.5175435137748718  vaccuracy-0.8912903225806451 lr-[0.0001]\n",
    "# loss-0.1571  vloss-0.5029506856203079  vaccuracy-0.8970967741935484 lr-[0.0001]\n",
    "\n",
    "7.\n",
    "# No resudiols excpe norm(a+b)\n",
    "#with roberta embbding load m.emd = orginal Ex256 nn.adaptive(256)\n",
    "# /kaggle/input/financial-sentiment-analysis\n",
    " #Lr = 1e-4  torch.optim.lr_scheduler.LinearLR(optimizer,total_iters=5) 256-1024 8 heads 6 layers\n",
    "# loss-1.0498  vloss-0.9539654016494751  vaccuracy-0.5355004277159966 lr-[6.533333333333334e-05]\n",
    "# loss-0.9553  vloss-0.9168255388736725  vaccuracy-0.5406330196749358 lr-[7.714285714285715e-05]\n",
    "# loss-0.8969  vloss-0.8359969079494476  vaccuracy-0.6313088109495295 lr-[8.962962962962965e-05]\n",
    "# loss-0.8281  vloss-0.7813791334629059  vaccuracy-0.6441402908468776 lr-[0.00010242424242424244]\n",
    "# loss-0.7617  vloss-0.7287110447883606  vaccuracy-0.660393498716852 lr-[0.00011538461538461538]\n",
    "# loss-0.672  vloss-0.7061142563819885  vaccuracy-0.688622754491018 lr-[0.0001]\n",
    "# loss-0.5486  vloss-0.6293993830680847  vaccuracy-0.7245508982035929 lr-[0.0001]\n",
    "# loss-0.422  vloss-0.6116037964820862  vaccuracy-0.7408041060735672 lr-[0.0001]\n",
    "# loss-0.3374  vloss-0.619420051574707  vaccuracy-0.7450812660393499 lr-[0.0001]\n",
    "# loss-0.2694  vloss-0.6812280535697937  vaccuracy-0.7416595380667237 lr-[0.0001]"
   ]
  },
  {
   "cell_type": "code",
   "execution_count": 39,
   "id": "62ec4090",
   "metadata": {
    "execution": {
     "iopub.execute_input": "2025-06-10T19:04:40.161003Z",
     "iopub.status.busy": "2025-06-10T19:04:40.160678Z",
     "iopub.status.idle": "2025-06-10T19:09:11.749362Z",
     "shell.execute_reply": "2025-06-10T19:09:11.748169Z"
    },
    "papermill": {
     "duration": 271.60009,
     "end_time": "2025-06-10T19:09:11.751146",
     "exception": false,
     "start_time": "2025-06-10T19:04:40.151056",
     "status": "completed"
    },
    "tags": []
   },
   "outputs": [
    {
     "name": "stdout",
     "output_type": "stream",
     "text": [
      "loss-1.1646  vloss-0.8836344659328461  vaccuracy-0.6313088109495295 lr-[6.533333333333334e-05]\n",
      "loss-0.8567  vloss-0.7788777053356171  vaccuracy-0.6467065868263473 lr-[7.714285714285715e-05]\n",
      "loss-0.7368  vloss-0.6653479874134064  vaccuracy-0.6988879384088965 lr-[8.962962962962965e-05]\n",
      "loss-0.5746  vloss-0.5574774205684662  vaccuracy-0.7698887938408896 lr-[0.00010242424242424244]\n",
      "loss-0.466  vloss-0.5204420030117035  vaccuracy-0.7741659538066724 lr-[0.00011538461538461538]\n",
      "loss-0.3581  vloss-0.5468204647302628  vaccuracy-0.7741659538066724 lr-[0.0001]\n",
      "loss-0.2688  vloss-0.5460979223251343  vaccuracy-0.7630453378956373 lr-[0.0001]\n",
      "loss-0.1813  vloss-0.6542305141687393  vaccuracy-0.7399486740804107 lr-[0.0001]\n",
      "loss-0.1506  vloss-0.75699542760849  vaccuracy-0.7305389221556886 lr-[0.0001]\n",
      "loss-0.1448  vloss-0.805930107831955  vaccuracy-0.7339606501283148 lr-[0.0001]\n"
     ]
    }
   ],
   "source": [
    "main(model,train_loader,val_loader)"
   ]
  },
  {
   "cell_type": "code",
   "execution_count": null,
   "id": "aebd8db5",
   "metadata": {
    "papermill": {
     "duration": 0.008374,
     "end_time": "2025-06-10T19:09:11.768567",
     "exception": false,
     "start_time": "2025-06-10T19:09:11.760193",
     "status": "completed"
    },
    "tags": []
   },
   "outputs": [],
   "source": []
  }
 ],
 "metadata": {
  "kaggle": {
   "accelerator": "gpu",
   "dataSources": [
    {
     "datasetId": 2663421,
     "sourceId": 4620664,
     "sourceType": "datasetVersion"
    },
    {
     "datasetId": 4903552,
     "sourceId": 8264861,
     "sourceType": "datasetVersion"
    },
    {
     "datasetId": 1918992,
     "sourceId": 3205803,
     "sourceType": "datasetVersion"
    },
    {
     "sourceId": 117289270,
     "sourceType": "kernelVersion"
    }
   ],
   "isGpuEnabled": true,
   "isInternetEnabled": true,
   "language": "python",
   "sourceType": "notebook"
  },
  "kernelspec": {
   "display_name": "Python 3",
   "language": "python",
   "name": "python3"
  },
  "language_info": {
   "codemirror_mode": {
    "name": "ipython",
    "version": 3
   },
   "file_extension": ".py",
   "mimetype": "text/x-python",
   "name": "python",
   "nbconvert_exporter": "python",
   "pygments_lexer": "ipython3",
   "version": "3.11.11"
  },
  "papermill": {
   "default_parameters": {},
   "duration": 327.543182,
   "end_time": "2025-06-10T19:09:15.243011",
   "environment_variables": {},
   "exception": null,
   "input_path": "__notebook__.ipynb",
   "output_path": "__notebook__.ipynb",
   "parameters": {},
   "start_time": "2025-06-10T19:03:47.699829",
   "version": "2.6.0"
  },
  "widgets": {
   "application/vnd.jupyter.widget-state+json": {
    "state": {
     "011c8b8b42e84cb8b39e9e47f5869106": {
      "model_module": "@jupyter-widgets/controls",
      "model_module_version": "2.0.0",
      "model_name": "HTMLModel",
      "state": {
       "_dom_classes": [],
       "_model_module": "@jupyter-widgets/controls",
       "_model_module_version": "2.0.0",
       "_model_name": "HTMLModel",
       "_view_count": null,
       "_view_module": "@jupyter-widgets/controls",
       "_view_module_version": "2.0.0",
       "_view_name": "HTMLView",
       "description": "",
       "description_allow_html": false,
       "layout": "IPY_MODEL_4523f282ec9d459aa0959e5e9f07e859",
       "placeholder": "​",
       "style": "IPY_MODEL_a32e5ff809e842fa92fa2fc30d977dc8",
       "tabbable": null,
       "tooltip": null,
       "value": " 1.36M/1.36M [00:00&lt;00:00, 31.7MB/s]"
      }
     },
     "061e4d9037ec4fcb8adef65497aef014": {
      "model_module": "@jupyter-widgets/controls",
      "model_module_version": "2.0.0",
      "model_name": "HTMLModel",
      "state": {
       "_dom_classes": [],
       "_model_module": "@jupyter-widgets/controls",
       "_model_module_version": "2.0.0",
       "_model_name": "HTMLModel",
       "_view_count": null,
       "_view_module": "@jupyter-widgets/controls",
       "_view_module_version": "2.0.0",
       "_view_name": "HTMLView",
       "description": "",
       "description_allow_html": false,
       "layout": "IPY_MODEL_aaa7b2df579c451585a793da9817ef52",
       "placeholder": "​",
       "style": "IPY_MODEL_264376a245954e3eac8fb3191e25083b",
       "tabbable": null,
       "tooltip": null,
       "value": "tokenizer_config.json: 100%"
      }
     },
     "08437d09f532467da0b7af5c5b899152": {
      "model_module": "@jupyter-widgets/base",
      "model_module_version": "2.0.0",
      "model_name": "LayoutModel",
      "state": {
       "_model_module": "@jupyter-widgets/base",
       "_model_module_version": "2.0.0",
       "_model_name": "LayoutModel",
       "_view_count": null,
       "_view_module": "@jupyter-widgets/base",
       "_view_module_version": "2.0.0",
       "_view_name": "LayoutView",
       "align_content": null,
       "align_items": null,
       "align_self": null,
       "border_bottom": null,
       "border_left": null,
       "border_right": null,
       "border_top": null,
       "bottom": null,
       "display": null,
       "flex": null,
       "flex_flow": null,
       "grid_area": null,
       "grid_auto_columns": null,
       "grid_auto_flow": null,
       "grid_auto_rows": null,
       "grid_column": null,
       "grid_gap": null,
       "grid_row": null,
       "grid_template_areas": null,
       "grid_template_columns": null,
       "grid_template_rows": null,
       "height": null,
       "justify_content": null,
       "justify_items": null,
       "left": null,
       "margin": null,
       "max_height": null,
       "max_width": null,
       "min_height": null,
       "min_width": null,
       "object_fit": null,
       "object_position": null,
       "order": null,
       "overflow": null,
       "padding": null,
       "right": null,
       "top": null,
       "visibility": null,
       "width": null
      }
     },
     "09cd218c1c1143a3afacc05b0bb5b993": {
      "model_module": "@jupyter-widgets/controls",
      "model_module_version": "2.0.0",
      "model_name": "FloatProgressModel",
      "state": {
       "_dom_classes": [],
       "_model_module": "@jupyter-widgets/controls",
       "_model_module_version": "2.0.0",
       "_model_name": "FloatProgressModel",
       "_view_count": null,
       "_view_module": "@jupyter-widgets/controls",
       "_view_module_version": "2.0.0",
       "_view_name": "ProgressView",
       "bar_style": "success",
       "description": "",
       "description_allow_html": false,
       "layout": "IPY_MODEL_7edf1f6e3bb54b1c9dec064bc49b6a3e",
       "max": 456318.0,
       "min": 0.0,
       "orientation": "horizontal",
       "style": "IPY_MODEL_9a550767898e4d678edd301603e74ab7",
       "tabbable": null,
       "tooltip": null,
       "value": 456318.0
      }
     },
     "15b3bcb5912c48b5aca15a2a44bfc37a": {
      "model_module": "@jupyter-widgets/controls",
      "model_module_version": "2.0.0",
      "model_name": "ProgressStyleModel",
      "state": {
       "_model_module": "@jupyter-widgets/controls",
       "_model_module_version": "2.0.0",
       "_model_name": "ProgressStyleModel",
       "_view_count": null,
       "_view_module": "@jupyter-widgets/base",
       "_view_module_version": "2.0.0",
       "_view_name": "StyleView",
       "bar_color": null,
       "description_width": ""
      }
     },
     "183d7b2cbb8848f6ba77cc733d7a68f0": {
      "model_module": "@jupyter-widgets/base",
      "model_module_version": "2.0.0",
      "model_name": "LayoutModel",
      "state": {
       "_model_module": "@jupyter-widgets/base",
       "_model_module_version": "2.0.0",
       "_model_name": "LayoutModel",
       "_view_count": null,
       "_view_module": "@jupyter-widgets/base",
       "_view_module_version": "2.0.0",
       "_view_name": "LayoutView",
       "align_content": null,
       "align_items": null,
       "align_self": null,
       "border_bottom": null,
       "border_left": null,
       "border_right": null,
       "border_top": null,
       "bottom": null,
       "display": null,
       "flex": null,
       "flex_flow": null,
       "grid_area": null,
       "grid_auto_columns": null,
       "grid_auto_flow": null,
       "grid_auto_rows": null,
       "grid_column": null,
       "grid_gap": null,
       "grid_row": null,
       "grid_template_areas": null,
       "grid_template_columns": null,
       "grid_template_rows": null,
       "height": null,
       "justify_content": null,
       "justify_items": null,
       "left": null,
       "margin": null,
       "max_height": null,
       "max_width": null,
       "min_height": null,
       "min_width": null,
       "object_fit": null,
       "object_position": null,
       "order": null,
       "overflow": null,
       "padding": null,
       "right": null,
       "top": null,
       "visibility": null,
       "width": null
      }
     },
     "19db469cbce746348026d5e82576a75e": {
      "model_module": "@jupyter-widgets/base",
      "model_module_version": "2.0.0",
      "model_name": "LayoutModel",
      "state": {
       "_model_module": "@jupyter-widgets/base",
       "_model_module_version": "2.0.0",
       "_model_name": "LayoutModel",
       "_view_count": null,
       "_view_module": "@jupyter-widgets/base",
       "_view_module_version": "2.0.0",
       "_view_name": "LayoutView",
       "align_content": null,
       "align_items": null,
       "align_self": null,
       "border_bottom": null,
       "border_left": null,
       "border_right": null,
       "border_top": null,
       "bottom": null,
       "display": null,
       "flex": null,
       "flex_flow": null,
       "grid_area": null,
       "grid_auto_columns": null,
       "grid_auto_flow": null,
       "grid_auto_rows": null,
       "grid_column": null,
       "grid_gap": null,
       "grid_row": null,
       "grid_template_areas": null,
       "grid_template_columns": null,
       "grid_template_rows": null,
       "height": null,
       "justify_content": null,
       "justify_items": null,
       "left": null,
       "margin": null,
       "max_height": null,
       "max_width": null,
       "min_height": null,
       "min_width": null,
       "object_fit": null,
       "object_position": null,
       "order": null,
       "overflow": null,
       "padding": null,
       "right": null,
       "top": null,
       "visibility": null,
       "width": null
      }
     },
     "1c2489242a344262bcf9eaad563a5090": {
      "model_module": "@jupyter-widgets/controls",
      "model_module_version": "2.0.0",
      "model_name": "HTMLModel",
      "state": {
       "_dom_classes": [],
       "_model_module": "@jupyter-widgets/controls",
       "_model_module_version": "2.0.0",
       "_model_name": "HTMLModel",
       "_view_count": null,
       "_view_module": "@jupyter-widgets/controls",
       "_view_module_version": "2.0.0",
       "_view_name": "HTMLView",
       "description": "",
       "description_allow_html": false,
       "layout": "IPY_MODEL_7ce3852e20ff4742acdf4935e3459551",
       "placeholder": "​",
       "style": "IPY_MODEL_5476d93e23184e1cb28e0a86edf800a0",
       "tabbable": null,
       "tooltip": null,
       "value": "vocab.json: 100%"
      }
     },
     "22a73ee312f048638cd385ad6e864ad2": {
      "model_module": "@jupyter-widgets/controls",
      "model_module_version": "2.0.0",
      "model_name": "HTMLStyleModel",
      "state": {
       "_model_module": "@jupyter-widgets/controls",
       "_model_module_version": "2.0.0",
       "_model_name": "HTMLStyleModel",
       "_view_count": null,
       "_view_module": "@jupyter-widgets/base",
       "_view_module_version": "2.0.0",
       "_view_name": "StyleView",
       "background": null,
       "description_width": "",
       "font_size": null,
       "text_color": null
      }
     },
     "24d9ac07ffc740959a3f1fe1dd184584": {
      "model_module": "@jupyter-widgets/base",
      "model_module_version": "2.0.0",
      "model_name": "LayoutModel",
      "state": {
       "_model_module": "@jupyter-widgets/base",
       "_model_module_version": "2.0.0",
       "_model_name": "LayoutModel",
       "_view_count": null,
       "_view_module": "@jupyter-widgets/base",
       "_view_module_version": "2.0.0",
       "_view_name": "LayoutView",
       "align_content": null,
       "align_items": null,
       "align_self": null,
       "border_bottom": null,
       "border_left": null,
       "border_right": null,
       "border_top": null,
       "bottom": null,
       "display": null,
       "flex": null,
       "flex_flow": null,
       "grid_area": null,
       "grid_auto_columns": null,
       "grid_auto_flow": null,
       "grid_auto_rows": null,
       "grid_column": null,
       "grid_gap": null,
       "grid_row": null,
       "grid_template_areas": null,
       "grid_template_columns": null,
       "grid_template_rows": null,
       "height": null,
       "justify_content": null,
       "justify_items": null,
       "left": null,
       "margin": null,
       "max_height": null,
       "max_width": null,
       "min_height": null,
       "min_width": null,
       "object_fit": null,
       "object_position": null,
       "order": null,
       "overflow": null,
       "padding": null,
       "right": null,
       "top": null,
       "visibility": null,
       "width": null
      }
     },
     "264376a245954e3eac8fb3191e25083b": {
      "model_module": "@jupyter-widgets/controls",
      "model_module_version": "2.0.0",
      "model_name": "HTMLStyleModel",
      "state": {
       "_model_module": "@jupyter-widgets/controls",
       "_model_module_version": "2.0.0",
       "_model_name": "HTMLStyleModel",
       "_view_count": null,
       "_view_module": "@jupyter-widgets/base",
       "_view_module_version": "2.0.0",
       "_view_name": "StyleView",
       "background": null,
       "description_width": "",
       "font_size": null,
       "text_color": null
      }
     },
     "318abd5511c74844b4c23c295dd52abd": {
      "model_module": "@jupyter-widgets/controls",
      "model_module_version": "2.0.0",
      "model_name": "HTMLStyleModel",
      "state": {
       "_model_module": "@jupyter-widgets/controls",
       "_model_module_version": "2.0.0",
       "_model_name": "HTMLStyleModel",
       "_view_count": null,
       "_view_module": "@jupyter-widgets/base",
       "_view_module_version": "2.0.0",
       "_view_name": "StyleView",
       "background": null,
       "description_width": "",
       "font_size": null,
       "text_color": null
      }
     },
     "3d6a2ecd59ec4e9da6b8233d1283847a": {
      "model_module": "@jupyter-widgets/controls",
      "model_module_version": "2.0.0",
      "model_name": "ProgressStyleModel",
      "state": {
       "_model_module": "@jupyter-widgets/controls",
       "_model_module_version": "2.0.0",
       "_model_name": "ProgressStyleModel",
       "_view_count": null,
       "_view_module": "@jupyter-widgets/base",
       "_view_module_version": "2.0.0",
       "_view_name": "StyleView",
       "bar_color": null,
       "description_width": ""
      }
     },
     "3dfeb47c1d1349a0a18043a24f1cdadf": {
      "model_module": "@jupyter-widgets/controls",
      "model_module_version": "2.0.0",
      "model_name": "HTMLModel",
      "state": {
       "_dom_classes": [],
       "_model_module": "@jupyter-widgets/controls",
       "_model_module_version": "2.0.0",
       "_model_name": "HTMLModel",
       "_view_count": null,
       "_view_module": "@jupyter-widgets/controls",
       "_view_module_version": "2.0.0",
       "_view_name": "HTMLView",
       "description": "",
       "description_allow_html": false,
       "layout": "IPY_MODEL_08437d09f532467da0b7af5c5b899152",
       "placeholder": "​",
       "style": "IPY_MODEL_65b14180f316455686685f97587352b0",
       "tabbable": null,
       "tooltip": null,
       "value": " 899k/899k [00:00&lt;00:00, 13.3MB/s]"
      }
     },
     "3f46fc1841fc440891b53b82afb50ff2": {
      "model_module": "@jupyter-widgets/controls",
      "model_module_version": "2.0.0",
      "model_name": "HTMLModel",
      "state": {
       "_dom_classes": [],
       "_model_module": "@jupyter-widgets/controls",
       "_model_module_version": "2.0.0",
       "_model_name": "HTMLModel",
       "_view_count": null,
       "_view_module": "@jupyter-widgets/controls",
       "_view_module_version": "2.0.0",
       "_view_name": "HTMLView",
       "description": "",
       "description_allow_html": false,
       "layout": "IPY_MODEL_6b04316b30c84a768a9fb3f6c707fbf6",
       "placeholder": "​",
       "style": "IPY_MODEL_9a76e8410e6a4941a12faa702a48c908",
       "tabbable": null,
       "tooltip": null,
       "value": " 25.0/25.0 [00:00&lt;00:00, 2.27kB/s]"
      }
     },
     "4523f282ec9d459aa0959e5e9f07e859": {
      "model_module": "@jupyter-widgets/base",
      "model_module_version": "2.0.0",
      "model_name": "LayoutModel",
      "state": {
       "_model_module": "@jupyter-widgets/base",
       "_model_module_version": "2.0.0",
       "_model_name": "LayoutModel",
       "_view_count": null,
       "_view_module": "@jupyter-widgets/base",
       "_view_module_version": "2.0.0",
       "_view_name": "LayoutView",
       "align_content": null,
       "align_items": null,
       "align_self": null,
       "border_bottom": null,
       "border_left": null,
       "border_right": null,
       "border_top": null,
       "bottom": null,
       "display": null,
       "flex": null,
       "flex_flow": null,
       "grid_area": null,
       "grid_auto_columns": null,
       "grid_auto_flow": null,
       "grid_auto_rows": null,
       "grid_column": null,
       "grid_gap": null,
       "grid_row": null,
       "grid_template_areas": null,
       "grid_template_columns": null,
       "grid_template_rows": null,
       "height": null,
       "justify_content": null,
       "justify_items": null,
       "left": null,
       "margin": null,
       "max_height": null,
       "max_width": null,
       "min_height": null,
       "min_width": null,
       "object_fit": null,
       "object_position": null,
       "order": null,
       "overflow": null,
       "padding": null,
       "right": null,
       "top": null,
       "visibility": null,
       "width": null
      }
     },
     "4549d2c4a56e4d428515216bcad0a088": {
      "model_module": "@jupyter-widgets/base",
      "model_module_version": "2.0.0",
      "model_name": "LayoutModel",
      "state": {
       "_model_module": "@jupyter-widgets/base",
       "_model_module_version": "2.0.0",
       "_model_name": "LayoutModel",
       "_view_count": null,
       "_view_module": "@jupyter-widgets/base",
       "_view_module_version": "2.0.0",
       "_view_name": "LayoutView",
       "align_content": null,
       "align_items": null,
       "align_self": null,
       "border_bottom": null,
       "border_left": null,
       "border_right": null,
       "border_top": null,
       "bottom": null,
       "display": null,
       "flex": null,
       "flex_flow": null,
       "grid_area": null,
       "grid_auto_columns": null,
       "grid_auto_flow": null,
       "grid_auto_rows": null,
       "grid_column": null,
       "grid_gap": null,
       "grid_row": null,
       "grid_template_areas": null,
       "grid_template_columns": null,
       "grid_template_rows": null,
       "height": null,
       "justify_content": null,
       "justify_items": null,
       "left": null,
       "margin": null,
       "max_height": null,
       "max_width": null,
       "min_height": null,
       "min_width": null,
       "object_fit": null,
       "object_position": null,
       "order": null,
       "overflow": null,
       "padding": null,
       "right": null,
       "top": null,
       "visibility": null,
       "width": null
      }
     },
     "45ebab6147364dcfaa4f59347fa1f151": {
      "model_module": "@jupyter-widgets/controls",
      "model_module_version": "2.0.0",
      "model_name": "HTMLStyleModel",
      "state": {
       "_model_module": "@jupyter-widgets/controls",
       "_model_module_version": "2.0.0",
       "_model_name": "HTMLStyleModel",
       "_view_count": null,
       "_view_module": "@jupyter-widgets/base",
       "_view_module_version": "2.0.0",
       "_view_name": "StyleView",
       "background": null,
       "description_width": "",
       "font_size": null,
       "text_color": null
      }
     },
     "49b196b0c0204fb68b3b5a1f525e2219": {
      "model_module": "@jupyter-widgets/controls",
      "model_module_version": "2.0.0",
      "model_name": "HTMLStyleModel",
      "state": {
       "_model_module": "@jupyter-widgets/controls",
       "_model_module_version": "2.0.0",
       "_model_name": "HTMLStyleModel",
       "_view_count": null,
       "_view_module": "@jupyter-widgets/base",
       "_view_module_version": "2.0.0",
       "_view_name": "StyleView",
       "background": null,
       "description_width": "",
       "font_size": null,
       "text_color": null
      }
     },
     "4a4bfa5e332043d28f34160f48fde837": {
      "model_module": "@jupyter-widgets/base",
      "model_module_version": "2.0.0",
      "model_name": "LayoutModel",
      "state": {
       "_model_module": "@jupyter-widgets/base",
       "_model_module_version": "2.0.0",
       "_model_name": "LayoutModel",
       "_view_count": null,
       "_view_module": "@jupyter-widgets/base",
       "_view_module_version": "2.0.0",
       "_view_name": "LayoutView",
       "align_content": null,
       "align_items": null,
       "align_self": null,
       "border_bottom": null,
       "border_left": null,
       "border_right": null,
       "border_top": null,
       "bottom": null,
       "display": null,
       "flex": null,
       "flex_flow": null,
       "grid_area": null,
       "grid_auto_columns": null,
       "grid_auto_flow": null,
       "grid_auto_rows": null,
       "grid_column": null,
       "grid_gap": null,
       "grid_row": null,
       "grid_template_areas": null,
       "grid_template_columns": null,
       "grid_template_rows": null,
       "height": null,
       "justify_content": null,
       "justify_items": null,
       "left": null,
       "margin": null,
       "max_height": null,
       "max_width": null,
       "min_height": null,
       "min_width": null,
       "object_fit": null,
       "object_position": null,
       "order": null,
       "overflow": null,
       "padding": null,
       "right": null,
       "top": null,
       "visibility": null,
       "width": null
      }
     },
     "50f07ea5e0a64f85b38542dce7c483c8": {
      "model_module": "@jupyter-widgets/controls",
      "model_module_version": "2.0.0",
      "model_name": "HBoxModel",
      "state": {
       "_dom_classes": [],
       "_model_module": "@jupyter-widgets/controls",
       "_model_module_version": "2.0.0",
       "_model_name": "HBoxModel",
       "_view_count": null,
       "_view_module": "@jupyter-widgets/controls",
       "_view_module_version": "2.0.0",
       "_view_name": "HBoxView",
       "box_style": "",
       "children": [
        "IPY_MODEL_6969ce0cb55c4919a8411b228396e511",
        "IPY_MODEL_09cd218c1c1143a3afacc05b0bb5b993",
        "IPY_MODEL_73de7449667e4045b5ee5f2e37a9d8b1"
       ],
       "layout": "IPY_MODEL_900b5ea3a5c74f4b9365cccecb7e5146",
       "tabbable": null,
       "tooltip": null
      }
     },
     "5476d93e23184e1cb28e0a86edf800a0": {
      "model_module": "@jupyter-widgets/controls",
      "model_module_version": "2.0.0",
      "model_name": "HTMLStyleModel",
      "state": {
       "_model_module": "@jupyter-widgets/controls",
       "_model_module_version": "2.0.0",
       "_model_name": "HTMLStyleModel",
       "_view_count": null,
       "_view_module": "@jupyter-widgets/base",
       "_view_module_version": "2.0.0",
       "_view_name": "StyleView",
       "background": null,
       "description_width": "",
       "font_size": null,
       "text_color": null
      }
     },
     "583ab22258cc41ad82e1b1ad9c97d5dc": {
      "model_module": "@jupyter-widgets/base",
      "model_module_version": "2.0.0",
      "model_name": "LayoutModel",
      "state": {
       "_model_module": "@jupyter-widgets/base",
       "_model_module_version": "2.0.0",
       "_model_name": "LayoutModel",
       "_view_count": null,
       "_view_module": "@jupyter-widgets/base",
       "_view_module_version": "2.0.0",
       "_view_name": "LayoutView",
       "align_content": null,
       "align_items": null,
       "align_self": null,
       "border_bottom": null,
       "border_left": null,
       "border_right": null,
       "border_top": null,
       "bottom": null,
       "display": null,
       "flex": null,
       "flex_flow": null,
       "grid_area": null,
       "grid_auto_columns": null,
       "grid_auto_flow": null,
       "grid_auto_rows": null,
       "grid_column": null,
       "grid_gap": null,
       "grid_row": null,
       "grid_template_areas": null,
       "grid_template_columns": null,
       "grid_template_rows": null,
       "height": null,
       "justify_content": null,
       "justify_items": null,
       "left": null,
       "margin": null,
       "max_height": null,
       "max_width": null,
       "min_height": null,
       "min_width": null,
       "object_fit": null,
       "object_position": null,
       "order": null,
       "overflow": null,
       "padding": null,
       "right": null,
       "top": null,
       "visibility": null,
       "width": null
      }
     },
     "5f72a321314a46ccbe796fc9001874ff": {
      "model_module": "@jupyter-widgets/controls",
      "model_module_version": "2.0.0",
      "model_name": "ProgressStyleModel",
      "state": {
       "_model_module": "@jupyter-widgets/controls",
       "_model_module_version": "2.0.0",
       "_model_name": "ProgressStyleModel",
       "_view_count": null,
       "_view_module": "@jupyter-widgets/base",
       "_view_module_version": "2.0.0",
       "_view_name": "StyleView",
       "bar_color": null,
       "description_width": ""
      }
     },
     "60fb91d3ee804fefb551a5b98a138ce2": {
      "model_module": "@jupyter-widgets/controls",
      "model_module_version": "2.0.0",
      "model_name": "ProgressStyleModel",
      "state": {
       "_model_module": "@jupyter-widgets/controls",
       "_model_module_version": "2.0.0",
       "_model_name": "ProgressStyleModel",
       "_view_count": null,
       "_view_module": "@jupyter-widgets/base",
       "_view_module_version": "2.0.0",
       "_view_name": "StyleView",
       "bar_color": null,
       "description_width": ""
      }
     },
     "65b14180f316455686685f97587352b0": {
      "model_module": "@jupyter-widgets/controls",
      "model_module_version": "2.0.0",
      "model_name": "HTMLStyleModel",
      "state": {
       "_model_module": "@jupyter-widgets/controls",
       "_model_module_version": "2.0.0",
       "_model_name": "HTMLStyleModel",
       "_view_count": null,
       "_view_module": "@jupyter-widgets/base",
       "_view_module_version": "2.0.0",
       "_view_name": "StyleView",
       "background": null,
       "description_width": "",
       "font_size": null,
       "text_color": null
      }
     },
     "6969ce0cb55c4919a8411b228396e511": {
      "model_module": "@jupyter-widgets/controls",
      "model_module_version": "2.0.0",
      "model_name": "HTMLModel",
      "state": {
       "_dom_classes": [],
       "_model_module": "@jupyter-widgets/controls",
       "_model_module_version": "2.0.0",
       "_model_name": "HTMLModel",
       "_view_count": null,
       "_view_module": "@jupyter-widgets/controls",
       "_view_module_version": "2.0.0",
       "_view_name": "HTMLView",
       "description": "",
       "description_allow_html": false,
       "layout": "IPY_MODEL_583ab22258cc41ad82e1b1ad9c97d5dc",
       "placeholder": "​",
       "style": "IPY_MODEL_318abd5511c74844b4c23c295dd52abd",
       "tabbable": null,
       "tooltip": null,
       "value": "merges.txt: 100%"
      }
     },
     "69f28e1d0b6042ce870d34047e7bc4ea": {
      "model_module": "@jupyter-widgets/base",
      "model_module_version": "2.0.0",
      "model_name": "LayoutModel",
      "state": {
       "_model_module": "@jupyter-widgets/base",
       "_model_module_version": "2.0.0",
       "_model_name": "LayoutModel",
       "_view_count": null,
       "_view_module": "@jupyter-widgets/base",
       "_view_module_version": "2.0.0",
       "_view_name": "LayoutView",
       "align_content": null,
       "align_items": null,
       "align_self": null,
       "border_bottom": null,
       "border_left": null,
       "border_right": null,
       "border_top": null,
       "bottom": null,
       "display": null,
       "flex": null,
       "flex_flow": null,
       "grid_area": null,
       "grid_auto_columns": null,
       "grid_auto_flow": null,
       "grid_auto_rows": null,
       "grid_column": null,
       "grid_gap": null,
       "grid_row": null,
       "grid_template_areas": null,
       "grid_template_columns": null,
       "grid_template_rows": null,
       "height": null,
       "justify_content": null,
       "justify_items": null,
       "left": null,
       "margin": null,
       "max_height": null,
       "max_width": null,
       "min_height": null,
       "min_width": null,
       "object_fit": null,
       "object_position": null,
       "order": null,
       "overflow": null,
       "padding": null,
       "right": null,
       "top": null,
       "visibility": null,
       "width": null
      }
     },
     "6a7368b5a6774357a67e0347e644828d": {
      "model_module": "@jupyter-widgets/controls",
      "model_module_version": "2.0.0",
      "model_name": "HBoxModel",
      "state": {
       "_dom_classes": [],
       "_model_module": "@jupyter-widgets/controls",
       "_model_module_version": "2.0.0",
       "_model_name": "HBoxModel",
       "_view_count": null,
       "_view_module": "@jupyter-widgets/controls",
       "_view_module_version": "2.0.0",
       "_view_name": "HBoxView",
       "box_style": "",
       "children": [
        "IPY_MODEL_061e4d9037ec4fcb8adef65497aef014",
        "IPY_MODEL_7da251629a4b44d19f934484883c0ae5",
        "IPY_MODEL_3f46fc1841fc440891b53b82afb50ff2"
       ],
       "layout": "IPY_MODEL_8fbad4d1beeb4b318f1921db88a970c5",
       "tabbable": null,
       "tooltip": null
      }
     },
     "6b04316b30c84a768a9fb3f6c707fbf6": {
      "model_module": "@jupyter-widgets/base",
      "model_module_version": "2.0.0",
      "model_name": "LayoutModel",
      "state": {
       "_model_module": "@jupyter-widgets/base",
       "_model_module_version": "2.0.0",
       "_model_name": "LayoutModel",
       "_view_count": null,
       "_view_module": "@jupyter-widgets/base",
       "_view_module_version": "2.0.0",
       "_view_name": "LayoutView",
       "align_content": null,
       "align_items": null,
       "align_self": null,
       "border_bottom": null,
       "border_left": null,
       "border_right": null,
       "border_top": null,
       "bottom": null,
       "display": null,
       "flex": null,
       "flex_flow": null,
       "grid_area": null,
       "grid_auto_columns": null,
       "grid_auto_flow": null,
       "grid_auto_rows": null,
       "grid_column": null,
       "grid_gap": null,
       "grid_row": null,
       "grid_template_areas": null,
       "grid_template_columns": null,
       "grid_template_rows": null,
       "height": null,
       "justify_content": null,
       "justify_items": null,
       "left": null,
       "margin": null,
       "max_height": null,
       "max_width": null,
       "min_height": null,
       "min_width": null,
       "object_fit": null,
       "object_position": null,
       "order": null,
       "overflow": null,
       "padding": null,
       "right": null,
       "top": null,
       "visibility": null,
       "width": null
      }
     },
     "73de7449667e4045b5ee5f2e37a9d8b1": {
      "model_module": "@jupyter-widgets/controls",
      "model_module_version": "2.0.0",
      "model_name": "HTMLModel",
      "state": {
       "_dom_classes": [],
       "_model_module": "@jupyter-widgets/controls",
       "_model_module_version": "2.0.0",
       "_model_name": "HTMLModel",
       "_view_count": null,
       "_view_module": "@jupyter-widgets/controls",
       "_view_module_version": "2.0.0",
       "_view_name": "HTMLView",
       "description": "",
       "description_allow_html": false,
       "layout": "IPY_MODEL_24d9ac07ffc740959a3f1fe1dd184584",
       "placeholder": "​",
       "style": "IPY_MODEL_d55cb4d5fff941349d81645ccef9f5a0",
       "tabbable": null,
       "tooltip": null,
       "value": " 456k/456k [00:00&lt;00:00, 14.2MB/s]"
      }
     },
     "7593da9a2fd74315a5dde48acf723162": {
      "model_module": "@jupyter-widgets/base",
      "model_module_version": "2.0.0",
      "model_name": "LayoutModel",
      "state": {
       "_model_module": "@jupyter-widgets/base",
       "_model_module_version": "2.0.0",
       "_model_name": "LayoutModel",
       "_view_count": null,
       "_view_module": "@jupyter-widgets/base",
       "_view_module_version": "2.0.0",
       "_view_name": "LayoutView",
       "align_content": null,
       "align_items": null,
       "align_self": null,
       "border_bottom": null,
       "border_left": null,
       "border_right": null,
       "border_top": null,
       "bottom": null,
       "display": null,
       "flex": null,
       "flex_flow": null,
       "grid_area": null,
       "grid_auto_columns": null,
       "grid_auto_flow": null,
       "grid_auto_rows": null,
       "grid_column": null,
       "grid_gap": null,
       "grid_row": null,
       "grid_template_areas": null,
       "grid_template_columns": null,
       "grid_template_rows": null,
       "height": null,
       "justify_content": null,
       "justify_items": null,
       "left": null,
       "margin": null,
       "max_height": null,
       "max_width": null,
       "min_height": null,
       "min_width": null,
       "object_fit": null,
       "object_position": null,
       "order": null,
       "overflow": null,
       "padding": null,
       "right": null,
       "top": null,
       "visibility": null,
       "width": null
      }
     },
     "75b718643e74460cabca870fb72504df": {
      "model_module": "@jupyter-widgets/base",
      "model_module_version": "2.0.0",
      "model_name": "LayoutModel",
      "state": {
       "_model_module": "@jupyter-widgets/base",
       "_model_module_version": "2.0.0",
       "_model_name": "LayoutModel",
       "_view_count": null,
       "_view_module": "@jupyter-widgets/base",
       "_view_module_version": "2.0.0",
       "_view_name": "LayoutView",
       "align_content": null,
       "align_items": null,
       "align_self": null,
       "border_bottom": null,
       "border_left": null,
       "border_right": null,
       "border_top": null,
       "bottom": null,
       "display": null,
       "flex": null,
       "flex_flow": null,
       "grid_area": null,
       "grid_auto_columns": null,
       "grid_auto_flow": null,
       "grid_auto_rows": null,
       "grid_column": null,
       "grid_gap": null,
       "grid_row": null,
       "grid_template_areas": null,
       "grid_template_columns": null,
       "grid_template_rows": null,
       "height": null,
       "justify_content": null,
       "justify_items": null,
       "left": null,
       "margin": null,
       "max_height": null,
       "max_width": null,
       "min_height": null,
       "min_width": null,
       "object_fit": null,
       "object_position": null,
       "order": null,
       "overflow": null,
       "padding": null,
       "right": null,
       "top": null,
       "visibility": null,
       "width": null
      }
     },
     "78e4ea64bc3741dcb3d9785b58ad0ad9": {
      "model_module": "@jupyter-widgets/base",
      "model_module_version": "2.0.0",
      "model_name": "LayoutModel",
      "state": {
       "_model_module": "@jupyter-widgets/base",
       "_model_module_version": "2.0.0",
       "_model_name": "LayoutModel",
       "_view_count": null,
       "_view_module": "@jupyter-widgets/base",
       "_view_module_version": "2.0.0",
       "_view_name": "LayoutView",
       "align_content": null,
       "align_items": null,
       "align_self": null,
       "border_bottom": null,
       "border_left": null,
       "border_right": null,
       "border_top": null,
       "bottom": null,
       "display": null,
       "flex": null,
       "flex_flow": null,
       "grid_area": null,
       "grid_auto_columns": null,
       "grid_auto_flow": null,
       "grid_auto_rows": null,
       "grid_column": null,
       "grid_gap": null,
       "grid_row": null,
       "grid_template_areas": null,
       "grid_template_columns": null,
       "grid_template_rows": null,
       "height": null,
       "justify_content": null,
       "justify_items": null,
       "left": null,
       "margin": null,
       "max_height": null,
       "max_width": null,
       "min_height": null,
       "min_width": null,
       "object_fit": null,
       "object_position": null,
       "order": null,
       "overflow": null,
       "padding": null,
       "right": null,
       "top": null,
       "visibility": null,
       "width": null
      }
     },
     "7c3308e83f6e492680bdd1c0b03a2d0d": {
      "model_module": "@jupyter-widgets/controls",
      "model_module_version": "2.0.0",
      "model_name": "FloatProgressModel",
      "state": {
       "_dom_classes": [],
       "_model_module": "@jupyter-widgets/controls",
       "_model_module_version": "2.0.0",
       "_model_name": "FloatProgressModel",
       "_view_count": null,
       "_view_module": "@jupyter-widgets/controls",
       "_view_module_version": "2.0.0",
       "_view_name": "ProgressView",
       "bar_style": "success",
       "description": "",
       "description_allow_html": false,
       "layout": "IPY_MODEL_78e4ea64bc3741dcb3d9785b58ad0ad9",
       "max": 498818054.0,
       "min": 0.0,
       "orientation": "horizontal",
       "style": "IPY_MODEL_3d6a2ecd59ec4e9da6b8233d1283847a",
       "tabbable": null,
       "tooltip": null,
       "value": 498818054.0
      }
     },
     "7ce3852e20ff4742acdf4935e3459551": {
      "model_module": "@jupyter-widgets/base",
      "model_module_version": "2.0.0",
      "model_name": "LayoutModel",
      "state": {
       "_model_module": "@jupyter-widgets/base",
       "_model_module_version": "2.0.0",
       "_model_name": "LayoutModel",
       "_view_count": null,
       "_view_module": "@jupyter-widgets/base",
       "_view_module_version": "2.0.0",
       "_view_name": "LayoutView",
       "align_content": null,
       "align_items": null,
       "align_self": null,
       "border_bottom": null,
       "border_left": null,
       "border_right": null,
       "border_top": null,
       "bottom": null,
       "display": null,
       "flex": null,
       "flex_flow": null,
       "grid_area": null,
       "grid_auto_columns": null,
       "grid_auto_flow": null,
       "grid_auto_rows": null,
       "grid_column": null,
       "grid_gap": null,
       "grid_row": null,
       "grid_template_areas": null,
       "grid_template_columns": null,
       "grid_template_rows": null,
       "height": null,
       "justify_content": null,
       "justify_items": null,
       "left": null,
       "margin": null,
       "max_height": null,
       "max_width": null,
       "min_height": null,
       "min_width": null,
       "object_fit": null,
       "object_position": null,
       "order": null,
       "overflow": null,
       "padding": null,
       "right": null,
       "top": null,
       "visibility": null,
       "width": null
      }
     },
     "7da251629a4b44d19f934484883c0ae5": {
      "model_module": "@jupyter-widgets/controls",
      "model_module_version": "2.0.0",
      "model_name": "FloatProgressModel",
      "state": {
       "_dom_classes": [],
       "_model_module": "@jupyter-widgets/controls",
       "_model_module_version": "2.0.0",
       "_model_name": "FloatProgressModel",
       "_view_count": null,
       "_view_module": "@jupyter-widgets/controls",
       "_view_module_version": "2.0.0",
       "_view_name": "ProgressView",
       "bar_style": "success",
       "description": "",
       "description_allow_html": false,
       "layout": "IPY_MODEL_900d711a72894ceb8830a6d7f9063d9e",
       "max": 25.0,
       "min": 0.0,
       "orientation": "horizontal",
       "style": "IPY_MODEL_5f72a321314a46ccbe796fc9001874ff",
       "tabbable": null,
       "tooltip": null,
       "value": 25.0
      }
     },
     "7edf1f6e3bb54b1c9dec064bc49b6a3e": {
      "model_module": "@jupyter-widgets/base",
      "model_module_version": "2.0.0",
      "model_name": "LayoutModel",
      "state": {
       "_model_module": "@jupyter-widgets/base",
       "_model_module_version": "2.0.0",
       "_model_name": "LayoutModel",
       "_view_count": null,
       "_view_module": "@jupyter-widgets/base",
       "_view_module_version": "2.0.0",
       "_view_name": "LayoutView",
       "align_content": null,
       "align_items": null,
       "align_self": null,
       "border_bottom": null,
       "border_left": null,
       "border_right": null,
       "border_top": null,
       "bottom": null,
       "display": null,
       "flex": null,
       "flex_flow": null,
       "grid_area": null,
       "grid_auto_columns": null,
       "grid_auto_flow": null,
       "grid_auto_rows": null,
       "grid_column": null,
       "grid_gap": null,
       "grid_row": null,
       "grid_template_areas": null,
       "grid_template_columns": null,
       "grid_template_rows": null,
       "height": null,
       "justify_content": null,
       "justify_items": null,
       "left": null,
       "margin": null,
       "max_height": null,
       "max_width": null,
       "min_height": null,
       "min_width": null,
       "object_fit": null,
       "object_position": null,
       "order": null,
       "overflow": null,
       "padding": null,
       "right": null,
       "top": null,
       "visibility": null,
       "width": null
      }
     },
     "7f85c28ccb6c443eaba1a7f59ad4e6e5": {
      "model_module": "@jupyter-widgets/base",
      "model_module_version": "2.0.0",
      "model_name": "LayoutModel",
      "state": {
       "_model_module": "@jupyter-widgets/base",
       "_model_module_version": "2.0.0",
       "_model_name": "LayoutModel",
       "_view_count": null,
       "_view_module": "@jupyter-widgets/base",
       "_view_module_version": "2.0.0",
       "_view_name": "LayoutView",
       "align_content": null,
       "align_items": null,
       "align_self": null,
       "border_bottom": null,
       "border_left": null,
       "border_right": null,
       "border_top": null,
       "bottom": null,
       "display": null,
       "flex": null,
       "flex_flow": null,
       "grid_area": null,
       "grid_auto_columns": null,
       "grid_auto_flow": null,
       "grid_auto_rows": null,
       "grid_column": null,
       "grid_gap": null,
       "grid_row": null,
       "grid_template_areas": null,
       "grid_template_columns": null,
       "grid_template_rows": null,
       "height": null,
       "justify_content": null,
       "justify_items": null,
       "left": null,
       "margin": null,
       "max_height": null,
       "max_width": null,
       "min_height": null,
       "min_width": null,
       "object_fit": null,
       "object_position": null,
       "order": null,
       "overflow": null,
       "padding": null,
       "right": null,
       "top": null,
       "visibility": null,
       "width": null
      }
     },
     "8fbad4d1beeb4b318f1921db88a970c5": {
      "model_module": "@jupyter-widgets/base",
      "model_module_version": "2.0.0",
      "model_name": "LayoutModel",
      "state": {
       "_model_module": "@jupyter-widgets/base",
       "_model_module_version": "2.0.0",
       "_model_name": "LayoutModel",
       "_view_count": null,
       "_view_module": "@jupyter-widgets/base",
       "_view_module_version": "2.0.0",
       "_view_name": "LayoutView",
       "align_content": null,
       "align_items": null,
       "align_self": null,
       "border_bottom": null,
       "border_left": null,
       "border_right": null,
       "border_top": null,
       "bottom": null,
       "display": null,
       "flex": null,
       "flex_flow": null,
       "grid_area": null,
       "grid_auto_columns": null,
       "grid_auto_flow": null,
       "grid_auto_rows": null,
       "grid_column": null,
       "grid_gap": null,
       "grid_row": null,
       "grid_template_areas": null,
       "grid_template_columns": null,
       "grid_template_rows": null,
       "height": null,
       "justify_content": null,
       "justify_items": null,
       "left": null,
       "margin": null,
       "max_height": null,
       "max_width": null,
       "min_height": null,
       "min_width": null,
       "object_fit": null,
       "object_position": null,
       "order": null,
       "overflow": null,
       "padding": null,
       "right": null,
       "top": null,
       "visibility": null,
       "width": null
      }
     },
     "900b5ea3a5c74f4b9365cccecb7e5146": {
      "model_module": "@jupyter-widgets/base",
      "model_module_version": "2.0.0",
      "model_name": "LayoutModel",
      "state": {
       "_model_module": "@jupyter-widgets/base",
       "_model_module_version": "2.0.0",
       "_model_name": "LayoutModel",
       "_view_count": null,
       "_view_module": "@jupyter-widgets/base",
       "_view_module_version": "2.0.0",
       "_view_name": "LayoutView",
       "align_content": null,
       "align_items": null,
       "align_self": null,
       "border_bottom": null,
       "border_left": null,
       "border_right": null,
       "border_top": null,
       "bottom": null,
       "display": null,
       "flex": null,
       "flex_flow": null,
       "grid_area": null,
       "grid_auto_columns": null,
       "grid_auto_flow": null,
       "grid_auto_rows": null,
       "grid_column": null,
       "grid_gap": null,
       "grid_row": null,
       "grid_template_areas": null,
       "grid_template_columns": null,
       "grid_template_rows": null,
       "height": null,
       "justify_content": null,
       "justify_items": null,
       "left": null,
       "margin": null,
       "max_height": null,
       "max_width": null,
       "min_height": null,
       "min_width": null,
       "object_fit": null,
       "object_position": null,
       "order": null,
       "overflow": null,
       "padding": null,
       "right": null,
       "top": null,
       "visibility": null,
       "width": null
      }
     },
     "900d711a72894ceb8830a6d7f9063d9e": {
      "model_module": "@jupyter-widgets/base",
      "model_module_version": "2.0.0",
      "model_name": "LayoutModel",
      "state": {
       "_model_module": "@jupyter-widgets/base",
       "_model_module_version": "2.0.0",
       "_model_name": "LayoutModel",
       "_view_count": null,
       "_view_module": "@jupyter-widgets/base",
       "_view_module_version": "2.0.0",
       "_view_name": "LayoutView",
       "align_content": null,
       "align_items": null,
       "align_self": null,
       "border_bottom": null,
       "border_left": null,
       "border_right": null,
       "border_top": null,
       "bottom": null,
       "display": null,
       "flex": null,
       "flex_flow": null,
       "grid_area": null,
       "grid_auto_columns": null,
       "grid_auto_flow": null,
       "grid_auto_rows": null,
       "grid_column": null,
       "grid_gap": null,
       "grid_row": null,
       "grid_template_areas": null,
       "grid_template_columns": null,
       "grid_template_rows": null,
       "height": null,
       "justify_content": null,
       "justify_items": null,
       "left": null,
       "margin": null,
       "max_height": null,
       "max_width": null,
       "min_height": null,
       "min_width": null,
       "object_fit": null,
       "object_position": null,
       "order": null,
       "overflow": null,
       "padding": null,
       "right": null,
       "top": null,
       "visibility": null,
       "width": null
      }
     },
     "91d10fce1ea54567b887535eecbf7548": {
      "model_module": "@jupyter-widgets/controls",
      "model_module_version": "2.0.0",
      "model_name": "HBoxModel",
      "state": {
       "_dom_classes": [],
       "_model_module": "@jupyter-widgets/controls",
       "_model_module_version": "2.0.0",
       "_model_name": "HBoxModel",
       "_view_count": null,
       "_view_module": "@jupyter-widgets/controls",
       "_view_module_version": "2.0.0",
       "_view_name": "HBoxView",
       "box_style": "",
       "children": [
        "IPY_MODEL_d6bab30c469f4b0797d5c33e0069b582",
        "IPY_MODEL_a0cf04ab623e4f5ca866bd7f6e245f91",
        "IPY_MODEL_011c8b8b42e84cb8b39e9e47f5869106"
       ],
       "layout": "IPY_MODEL_4a4bfa5e332043d28f34160f48fde837",
       "tabbable": null,
       "tooltip": null
      }
     },
     "96713c53df814a89b9fc8c3e471e85fe": {
      "model_module": "@jupyter-widgets/controls",
      "model_module_version": "2.0.0",
      "model_name": "HTMLModel",
      "state": {
       "_dom_classes": [],
       "_model_module": "@jupyter-widgets/controls",
       "_model_module_version": "2.0.0",
       "_model_name": "HTMLModel",
       "_view_count": null,
       "_view_module": "@jupyter-widgets/controls",
       "_view_module_version": "2.0.0",
       "_view_name": "HTMLView",
       "description": "",
       "description_allow_html": false,
       "layout": "IPY_MODEL_69f28e1d0b6042ce870d34047e7bc4ea",
       "placeholder": "​",
       "style": "IPY_MODEL_af6efddf887f42e1834aa08d49e556f6",
       "tabbable": null,
       "tooltip": null,
       "value": " 499M/499M [00:01&lt;00:00, 366MB/s]"
      }
     },
     "98eb7ef9334745b89dc9a8c0bdeea245": {
      "model_module": "@jupyter-widgets/controls",
      "model_module_version": "2.0.0",
      "model_name": "HTMLModel",
      "state": {
       "_dom_classes": [],
       "_model_module": "@jupyter-widgets/controls",
       "_model_module_version": "2.0.0",
       "_model_name": "HTMLModel",
       "_view_count": null,
       "_view_module": "@jupyter-widgets/controls",
       "_view_module_version": "2.0.0",
       "_view_name": "HTMLView",
       "description": "",
       "description_allow_html": false,
       "layout": "IPY_MODEL_b9db80980aa74151b0d61e6f54cdf235",
       "placeholder": "​",
       "style": "IPY_MODEL_22a73ee312f048638cd385ad6e864ad2",
       "tabbable": null,
       "tooltip": null,
       "value": "model.safetensors: 100%"
      }
     },
     "9a550767898e4d678edd301603e74ab7": {
      "model_module": "@jupyter-widgets/controls",
      "model_module_version": "2.0.0",
      "model_name": "ProgressStyleModel",
      "state": {
       "_model_module": "@jupyter-widgets/controls",
       "_model_module_version": "2.0.0",
       "_model_name": "ProgressStyleModel",
       "_view_count": null,
       "_view_module": "@jupyter-widgets/base",
       "_view_module_version": "2.0.0",
       "_view_name": "StyleView",
       "bar_color": null,
       "description_width": ""
      }
     },
     "9a76e8410e6a4941a12faa702a48c908": {
      "model_module": "@jupyter-widgets/controls",
      "model_module_version": "2.0.0",
      "model_name": "HTMLStyleModel",
      "state": {
       "_model_module": "@jupyter-widgets/controls",
       "_model_module_version": "2.0.0",
       "_model_name": "HTMLStyleModel",
       "_view_count": null,
       "_view_module": "@jupyter-widgets/base",
       "_view_module_version": "2.0.0",
       "_view_name": "StyleView",
       "background": null,
       "description_width": "",
       "font_size": null,
       "text_color": null
      }
     },
     "9d23185c91814031a14238694203b392": {
      "model_module": "@jupyter-widgets/base",
      "model_module_version": "2.0.0",
      "model_name": "LayoutModel",
      "state": {
       "_model_module": "@jupyter-widgets/base",
       "_model_module_version": "2.0.0",
       "_model_name": "LayoutModel",
       "_view_count": null,
       "_view_module": "@jupyter-widgets/base",
       "_view_module_version": "2.0.0",
       "_view_name": "LayoutView",
       "align_content": null,
       "align_items": null,
       "align_self": null,
       "border_bottom": null,
       "border_left": null,
       "border_right": null,
       "border_top": null,
       "bottom": null,
       "display": null,
       "flex": null,
       "flex_flow": null,
       "grid_area": null,
       "grid_auto_columns": null,
       "grid_auto_flow": null,
       "grid_auto_rows": null,
       "grid_column": null,
       "grid_gap": null,
       "grid_row": null,
       "grid_template_areas": null,
       "grid_template_columns": null,
       "grid_template_rows": null,
       "height": null,
       "justify_content": null,
       "justify_items": null,
       "left": null,
       "margin": null,
       "max_height": null,
       "max_width": null,
       "min_height": null,
       "min_width": null,
       "object_fit": null,
       "object_position": null,
       "order": null,
       "overflow": null,
       "padding": null,
       "right": null,
       "top": null,
       "visibility": null,
       "width": null
      }
     },
     "a0cf04ab623e4f5ca866bd7f6e245f91": {
      "model_module": "@jupyter-widgets/controls",
      "model_module_version": "2.0.0",
      "model_name": "FloatProgressModel",
      "state": {
       "_dom_classes": [],
       "_model_module": "@jupyter-widgets/controls",
       "_model_module_version": "2.0.0",
       "_model_name": "FloatProgressModel",
       "_view_count": null,
       "_view_module": "@jupyter-widgets/controls",
       "_view_module_version": "2.0.0",
       "_view_name": "ProgressView",
       "bar_style": "success",
       "description": "",
       "description_allow_html": false,
       "layout": "IPY_MODEL_183d7b2cbb8848f6ba77cc733d7a68f0",
       "max": 1355863.0,
       "min": 0.0,
       "orientation": "horizontal",
       "style": "IPY_MODEL_60fb91d3ee804fefb551a5b98a138ce2",
       "tabbable": null,
       "tooltip": null,
       "value": 1355863.0
      }
     },
     "a32e5ff809e842fa92fa2fc30d977dc8": {
      "model_module": "@jupyter-widgets/controls",
      "model_module_version": "2.0.0",
      "model_name": "HTMLStyleModel",
      "state": {
       "_model_module": "@jupyter-widgets/controls",
       "_model_module_version": "2.0.0",
       "_model_name": "HTMLStyleModel",
       "_view_count": null,
       "_view_module": "@jupyter-widgets/base",
       "_view_module_version": "2.0.0",
       "_view_name": "StyleView",
       "background": null,
       "description_width": "",
       "font_size": null,
       "text_color": null
      }
     },
     "aaa7b2df579c451585a793da9817ef52": {
      "model_module": "@jupyter-widgets/base",
      "model_module_version": "2.0.0",
      "model_name": "LayoutModel",
      "state": {
       "_model_module": "@jupyter-widgets/base",
       "_model_module_version": "2.0.0",
       "_model_name": "LayoutModel",
       "_view_count": null,
       "_view_module": "@jupyter-widgets/base",
       "_view_module_version": "2.0.0",
       "_view_name": "LayoutView",
       "align_content": null,
       "align_items": null,
       "align_self": null,
       "border_bottom": null,
       "border_left": null,
       "border_right": null,
       "border_top": null,
       "bottom": null,
       "display": null,
       "flex": null,
       "flex_flow": null,
       "grid_area": null,
       "grid_auto_columns": null,
       "grid_auto_flow": null,
       "grid_auto_rows": null,
       "grid_column": null,
       "grid_gap": null,
       "grid_row": null,
       "grid_template_areas": null,
       "grid_template_columns": null,
       "grid_template_rows": null,
       "height": null,
       "justify_content": null,
       "justify_items": null,
       "left": null,
       "margin": null,
       "max_height": null,
       "max_width": null,
       "min_height": null,
       "min_width": null,
       "object_fit": null,
       "object_position": null,
       "order": null,
       "overflow": null,
       "padding": null,
       "right": null,
       "top": null,
       "visibility": null,
       "width": null
      }
     },
     "af6efddf887f42e1834aa08d49e556f6": {
      "model_module": "@jupyter-widgets/controls",
      "model_module_version": "2.0.0",
      "model_name": "HTMLStyleModel",
      "state": {
       "_model_module": "@jupyter-widgets/controls",
       "_model_module_version": "2.0.0",
       "_model_name": "HTMLStyleModel",
       "_view_count": null,
       "_view_module": "@jupyter-widgets/base",
       "_view_module_version": "2.0.0",
       "_view_name": "StyleView",
       "background": null,
       "description_width": "",
       "font_size": null,
       "text_color": null
      }
     },
     "b4f5ff1b04784220ac37a508c0757c5a": {
      "model_module": "@jupyter-widgets/controls",
      "model_module_version": "2.0.0",
      "model_name": "HTMLStyleModel",
      "state": {
       "_model_module": "@jupyter-widgets/controls",
       "_model_module_version": "2.0.0",
       "_model_name": "HTMLStyleModel",
       "_view_count": null,
       "_view_module": "@jupyter-widgets/base",
       "_view_module_version": "2.0.0",
       "_view_name": "StyleView",
       "background": null,
       "description_width": "",
       "font_size": null,
       "text_color": null
      }
     },
     "b5bf10dfd46444e696fad23352f52a7a": {
      "model_module": "@jupyter-widgets/controls",
      "model_module_version": "2.0.0",
      "model_name": "HBoxModel",
      "state": {
       "_dom_classes": [],
       "_model_module": "@jupyter-widgets/controls",
       "_model_module_version": "2.0.0",
       "_model_name": "HBoxModel",
       "_view_count": null,
       "_view_module": "@jupyter-widgets/controls",
       "_view_module_version": "2.0.0",
       "_view_name": "HBoxView",
       "box_style": "",
       "children": [
        "IPY_MODEL_98eb7ef9334745b89dc9a8c0bdeea245",
        "IPY_MODEL_7c3308e83f6e492680bdd1c0b03a2d0d",
        "IPY_MODEL_96713c53df814a89b9fc8c3e471e85fe"
       ],
       "layout": "IPY_MODEL_7593da9a2fd74315a5dde48acf723162",
       "tabbable": null,
       "tooltip": null
      }
     },
     "b9db80980aa74151b0d61e6f54cdf235": {
      "model_module": "@jupyter-widgets/base",
      "model_module_version": "2.0.0",
      "model_name": "LayoutModel",
      "state": {
       "_model_module": "@jupyter-widgets/base",
       "_model_module_version": "2.0.0",
       "_model_name": "LayoutModel",
       "_view_count": null,
       "_view_module": "@jupyter-widgets/base",
       "_view_module_version": "2.0.0",
       "_view_name": "LayoutView",
       "align_content": null,
       "align_items": null,
       "align_self": null,
       "border_bottom": null,
       "border_left": null,
       "border_right": null,
       "border_top": null,
       "bottom": null,
       "display": null,
       "flex": null,
       "flex_flow": null,
       "grid_area": null,
       "grid_auto_columns": null,
       "grid_auto_flow": null,
       "grid_auto_rows": null,
       "grid_column": null,
       "grid_gap": null,
       "grid_row": null,
       "grid_template_areas": null,
       "grid_template_columns": null,
       "grid_template_rows": null,
       "height": null,
       "justify_content": null,
       "justify_items": null,
       "left": null,
       "margin": null,
       "max_height": null,
       "max_width": null,
       "min_height": null,
       "min_width": null,
       "object_fit": null,
       "object_position": null,
       "order": null,
       "overflow": null,
       "padding": null,
       "right": null,
       "top": null,
       "visibility": null,
       "width": null
      }
     },
     "ba1a71bf5e38466e837ebffc8ae1b31b": {
      "model_module": "@jupyter-widgets/controls",
      "model_module_version": "2.0.0",
      "model_name": "FloatProgressModel",
      "state": {
       "_dom_classes": [],
       "_model_module": "@jupyter-widgets/controls",
       "_model_module_version": "2.0.0",
       "_model_name": "FloatProgressModel",
       "_view_count": null,
       "_view_module": "@jupyter-widgets/controls",
       "_view_module_version": "2.0.0",
       "_view_name": "ProgressView",
       "bar_style": "success",
       "description": "",
       "description_allow_html": false,
       "layout": "IPY_MODEL_7f85c28ccb6c443eaba1a7f59ad4e6e5",
       "max": 481.0,
       "min": 0.0,
       "orientation": "horizontal",
       "style": "IPY_MODEL_eec690f2b86a4c0d929ba4d0daba579a",
       "tabbable": null,
       "tooltip": null,
       "value": 481.0
      }
     },
     "bcf61d46cf7c498ebccde8392fa4c2d7": {
      "model_module": "@jupyter-widgets/controls",
      "model_module_version": "2.0.0",
      "model_name": "FloatProgressModel",
      "state": {
       "_dom_classes": [],
       "_model_module": "@jupyter-widgets/controls",
       "_model_module_version": "2.0.0",
       "_model_name": "FloatProgressModel",
       "_view_count": null,
       "_view_module": "@jupyter-widgets/controls",
       "_view_module_version": "2.0.0",
       "_view_name": "ProgressView",
       "bar_style": "success",
       "description": "",
       "description_allow_html": false,
       "layout": "IPY_MODEL_9d23185c91814031a14238694203b392",
       "max": 898823.0,
       "min": 0.0,
       "orientation": "horizontal",
       "style": "IPY_MODEL_15b3bcb5912c48b5aca15a2a44bfc37a",
       "tabbable": null,
       "tooltip": null,
       "value": 898823.0
      }
     },
     "c525fb5b68354042a89d4704868086a5": {
      "model_module": "@jupyter-widgets/base",
      "model_module_version": "2.0.0",
      "model_name": "LayoutModel",
      "state": {
       "_model_module": "@jupyter-widgets/base",
       "_model_module_version": "2.0.0",
       "_model_name": "LayoutModel",
       "_view_count": null,
       "_view_module": "@jupyter-widgets/base",
       "_view_module_version": "2.0.0",
       "_view_name": "LayoutView",
       "align_content": null,
       "align_items": null,
       "align_self": null,
       "border_bottom": null,
       "border_left": null,
       "border_right": null,
       "border_top": null,
       "bottom": null,
       "display": null,
       "flex": null,
       "flex_flow": null,
       "grid_area": null,
       "grid_auto_columns": null,
       "grid_auto_flow": null,
       "grid_auto_rows": null,
       "grid_column": null,
       "grid_gap": null,
       "grid_row": null,
       "grid_template_areas": null,
       "grid_template_columns": null,
       "grid_template_rows": null,
       "height": null,
       "justify_content": null,
       "justify_items": null,
       "left": null,
       "margin": null,
       "max_height": null,
       "max_width": null,
       "min_height": null,
       "min_width": null,
       "object_fit": null,
       "object_position": null,
       "order": null,
       "overflow": null,
       "padding": null,
       "right": null,
       "top": null,
       "visibility": null,
       "width": null
      }
     },
     "c76f462dae0d4f19a6f788666b3590fb": {
      "model_module": "@jupyter-widgets/base",
      "model_module_version": "2.0.0",
      "model_name": "LayoutModel",
      "state": {
       "_model_module": "@jupyter-widgets/base",
       "_model_module_version": "2.0.0",
       "_model_name": "LayoutModel",
       "_view_count": null,
       "_view_module": "@jupyter-widgets/base",
       "_view_module_version": "2.0.0",
       "_view_name": "LayoutView",
       "align_content": null,
       "align_items": null,
       "align_self": null,
       "border_bottom": null,
       "border_left": null,
       "border_right": null,
       "border_top": null,
       "bottom": null,
       "display": null,
       "flex": null,
       "flex_flow": null,
       "grid_area": null,
       "grid_auto_columns": null,
       "grid_auto_flow": null,
       "grid_auto_rows": null,
       "grid_column": null,
       "grid_gap": null,
       "grid_row": null,
       "grid_template_areas": null,
       "grid_template_columns": null,
       "grid_template_rows": null,
       "height": null,
       "justify_content": null,
       "justify_items": null,
       "left": null,
       "margin": null,
       "max_height": null,
       "max_width": null,
       "min_height": null,
       "min_width": null,
       "object_fit": null,
       "object_position": null,
       "order": null,
       "overflow": null,
       "padding": null,
       "right": null,
       "top": null,
       "visibility": null,
       "width": null
      }
     },
     "ce4129031f81446dba02b3b804a040e8": {
      "model_module": "@jupyter-widgets/controls",
      "model_module_version": "2.0.0",
      "model_name": "HBoxModel",
      "state": {
       "_dom_classes": [],
       "_model_module": "@jupyter-widgets/controls",
       "_model_module_version": "2.0.0",
       "_model_name": "HBoxModel",
       "_view_count": null,
       "_view_module": "@jupyter-widgets/controls",
       "_view_module_version": "2.0.0",
       "_view_name": "HBoxView",
       "box_style": "",
       "children": [
        "IPY_MODEL_ed714a35608b4fc692db19c42d20cb25",
        "IPY_MODEL_ba1a71bf5e38466e837ebffc8ae1b31b",
        "IPY_MODEL_e76e550ee7bc485a91b6c5e321a175f0"
       ],
       "layout": "IPY_MODEL_19db469cbce746348026d5e82576a75e",
       "tabbable": null,
       "tooltip": null
      }
     },
     "d55cb4d5fff941349d81645ccef9f5a0": {
      "model_module": "@jupyter-widgets/controls",
      "model_module_version": "2.0.0",
      "model_name": "HTMLStyleModel",
      "state": {
       "_model_module": "@jupyter-widgets/controls",
       "_model_module_version": "2.0.0",
       "_model_name": "HTMLStyleModel",
       "_view_count": null,
       "_view_module": "@jupyter-widgets/base",
       "_view_module_version": "2.0.0",
       "_view_name": "StyleView",
       "background": null,
       "description_width": "",
       "font_size": null,
       "text_color": null
      }
     },
     "d6bab30c469f4b0797d5c33e0069b582": {
      "model_module": "@jupyter-widgets/controls",
      "model_module_version": "2.0.0",
      "model_name": "HTMLModel",
      "state": {
       "_dom_classes": [],
       "_model_module": "@jupyter-widgets/controls",
       "_model_module_version": "2.0.0",
       "_model_name": "HTMLModel",
       "_view_count": null,
       "_view_module": "@jupyter-widgets/controls",
       "_view_module_version": "2.0.0",
       "_view_name": "HTMLView",
       "description": "",
       "description_allow_html": false,
       "layout": "IPY_MODEL_4549d2c4a56e4d428515216bcad0a088",
       "placeholder": "​",
       "style": "IPY_MODEL_b4f5ff1b04784220ac37a508c0757c5a",
       "tabbable": null,
       "tooltip": null,
       "value": "tokenizer.json: 100%"
      }
     },
     "e76e550ee7bc485a91b6c5e321a175f0": {
      "model_module": "@jupyter-widgets/controls",
      "model_module_version": "2.0.0",
      "model_name": "HTMLModel",
      "state": {
       "_dom_classes": [],
       "_model_module": "@jupyter-widgets/controls",
       "_model_module_version": "2.0.0",
       "_model_name": "HTMLModel",
       "_view_count": null,
       "_view_module": "@jupyter-widgets/controls",
       "_view_module_version": "2.0.0",
       "_view_name": "HTMLView",
       "description": "",
       "description_allow_html": false,
       "layout": "IPY_MODEL_75b718643e74460cabca870fb72504df",
       "placeholder": "​",
       "style": "IPY_MODEL_45ebab6147364dcfaa4f59347fa1f151",
       "tabbable": null,
       "tooltip": null,
       "value": " 481/481 [00:00&lt;00:00, 53.5kB/s]"
      }
     },
     "ed714a35608b4fc692db19c42d20cb25": {
      "model_module": "@jupyter-widgets/controls",
      "model_module_version": "2.0.0",
      "model_name": "HTMLModel",
      "state": {
       "_dom_classes": [],
       "_model_module": "@jupyter-widgets/controls",
       "_model_module_version": "2.0.0",
       "_model_name": "HTMLModel",
       "_view_count": null,
       "_view_module": "@jupyter-widgets/controls",
       "_view_module_version": "2.0.0",
       "_view_name": "HTMLView",
       "description": "",
       "description_allow_html": false,
       "layout": "IPY_MODEL_c76f462dae0d4f19a6f788666b3590fb",
       "placeholder": "​",
       "style": "IPY_MODEL_49b196b0c0204fb68b3b5a1f525e2219",
       "tabbable": null,
       "tooltip": null,
       "value": "config.json: 100%"
      }
     },
     "eec690f2b86a4c0d929ba4d0daba579a": {
      "model_module": "@jupyter-widgets/controls",
      "model_module_version": "2.0.0",
      "model_name": "ProgressStyleModel",
      "state": {
       "_model_module": "@jupyter-widgets/controls",
       "_model_module_version": "2.0.0",
       "_model_name": "ProgressStyleModel",
       "_view_count": null,
       "_view_module": "@jupyter-widgets/base",
       "_view_module_version": "2.0.0",
       "_view_name": "StyleView",
       "bar_color": null,
       "description_width": ""
      }
     },
     "efa4b312786e4321a3ba1faf372ff445": {
      "model_module": "@jupyter-widgets/controls",
      "model_module_version": "2.0.0",
      "model_name": "HBoxModel",
      "state": {
       "_dom_classes": [],
       "_model_module": "@jupyter-widgets/controls",
       "_model_module_version": "2.0.0",
       "_model_name": "HBoxModel",
       "_view_count": null,
       "_view_module": "@jupyter-widgets/controls",
       "_view_module_version": "2.0.0",
       "_view_name": "HBoxView",
       "box_style": "",
       "children": [
        "IPY_MODEL_1c2489242a344262bcf9eaad563a5090",
        "IPY_MODEL_bcf61d46cf7c498ebccde8392fa4c2d7",
        "IPY_MODEL_3dfeb47c1d1349a0a18043a24f1cdadf"
       ],
       "layout": "IPY_MODEL_c525fb5b68354042a89d4704868086a5",
       "tabbable": null,
       "tooltip": null
      }
     }
    },
    "version_major": 2,
    "version_minor": 0
   }
  }
 },
 "nbformat": 4,
 "nbformat_minor": 5
}
